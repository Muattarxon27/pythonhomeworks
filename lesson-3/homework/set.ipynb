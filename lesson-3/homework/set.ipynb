{
 "cells": [
  {
   "cell_type": "code",
   "execution_count": 1,
   "metadata": {},
   "outputs": [
    {
     "name": "stdout",
     "output_type": "stream",
     "text": [
      "Birlashtirilgan to‘plam: {1, 2, 3, 4, 5, 6}\n"
     ]
    }
   ],
   "source": [
    "# Ikki to‘plamni birlashtirish funksiyasi\n",
    "def toplam_birlashtir(toplam1, toplam2):\n",
    "    return toplam1.union(toplam2)  # .union() metodi ikkala to‘plamni birlashtiradi\n",
    "\n",
    "# Misol uchun ikki to‘plam\n",
    "toplam_a = {1, 2, 3, 4}\n",
    "toplam_b = {3, 4, 5, 6}\n",
    "\n",
    "# To‘plamlarni birlashtirish\n",
    "yangi_toplam = toplam_birlashtir(toplam_a, toplam_b)\n",
    "\n",
    "# Natijani chiqarish\n",
    "print(\"Birlashtirilgan to‘plam:\", yangi_toplam)"
   ]
  },
  {
   "cell_type": "code",
   "execution_count": 2,
   "metadata": {},
   "outputs": [
    {
     "name": "stdout",
     "output_type": "stream",
     "text": [
      "Kesishma to‘plam: {3, 4}\n"
     ]
    }
   ],
   "source": [
    "# Ikki to‘plamning kesishmasini topish funksiyasi\n",
    "def toplam_kesishma(toplam1, toplam2):\n",
    "    return toplam1.intersection(toplam2)  # .intersection() metodi faqat umumiy elementlarni saqlaydi\n",
    "\n",
    "# Misol uchun ikki to‘plam\n",
    "toplam_a = {1, 2, 3, 4}\n",
    "toplam_b = {3, 4, 5, 6}\n",
    "\n",
    "# To‘plamlarning kesishmasini topish\n",
    "yangi_toplam = toplam_kesishma(toplam_a, toplam_b)\n",
    "\n",
    "# Natijani chiqarish\n",
    "print(\"Kesishma to‘plam:\", yangi_toplam)"
   ]
  },
  {
   "cell_type": "code",
   "execution_count": 3,
   "metadata": {},
   "outputs": [
    {
     "name": "stdout",
     "output_type": "stream",
     "text": [
      "Farqli elementlar to‘plami: {1, 2, 5}\n"
     ]
    }
   ],
   "source": [
    "# Ikki to‘plamning farqini topish funksiyasi\n",
    "def toplam_faqr(toplam1, toplam2):\n",
    "    return toplam1.difference(toplam2)  # .difference() metodi faqat 1-to‘plamda bor, lekin 2-to‘plamda yo‘q elementlarni saqlaydi\n",
    "\n",
    "# Misol uchun ikki to‘plam\n",
    "toplam_a = {1, 2, 3, 4, 5}\n",
    "toplam_b = {3, 4, 6, 7}\n",
    "\n",
    "# Farqni topish\n",
    "yangi_toplam = toplam_faqr(toplam_a, toplam_b)\n",
    "\n",
    "# Natijani chiqarish\n",
    "print(\"Farqli elementlar to‘plami:\", yangi_toplam)"
   ]
  },
  {
   "cell_type": "code",
   "execution_count": 4,
   "metadata": {},
   "outputs": [
    {
     "name": "stdout",
     "output_type": "stream",
     "text": [
      "toplam_a, toplam_b ning quyi to‘plami: True\n"
     ]
    }
   ],
   "source": [
    "# To‘plamning quyi to‘plam ekanligini tekshiruvchi funksiya\n",
    "def quyi_toplammi(toplam1, toplam2):\n",
    "    return toplam1.issubset(toplam2)  # .issubset() metodi toplam1, toplam2 ichida bo‘lsa True qaytaradi\n",
    "\n",
    "# Misol uchun ikki to‘plam\n",
    "toplam_a = {1, 2, 3}\n",
    "toplam_b = {1, 2, 3, 4, 5}\n",
    "\n",
    "# Tekshirish\n",
    "natija = quyi_toplammi(toplam_a, toplam_b)\n",
    "\n",
    "# Natijani chiqarish\n",
    "print(\"toplam_a, toplam_b ning quyi to‘plami:\", natija)"
   ]
  },
  {
   "cell_type": "code",
   "execution_count": 5,
   "metadata": {},
   "outputs": [
    {
     "name": "stdout",
     "output_type": "stream",
     "text": [
      "3 to‘plam ichida bormi?: True\n"
     ]
    }
   ],
   "source": [
    "# To‘plam ichida element borligini tekshiruvchi funksiya\n",
    "def element_bormi(toplam, element):\n",
    "    return element in toplam  # Agar element toplam ichida bo‘lsa, True qaytaradi\n",
    "\n",
    "# Misol uchun to‘plam\n",
    "toplam = {1, 2, 3, 4, 5}\n",
    "\n",
    "# Tekshirish\n",
    "element = 3\n",
    "natija = element_bormi(toplam, element)\n",
    "\n",
    "# Natijani chiqarish\n",
    "print(f\"{element} to‘plam ichida bormi?:\", natija)"
   ]
  },
  {
   "cell_type": "code",
   "execution_count": 6,
   "metadata": {},
   "outputs": [
    {
     "name": "stdout",
     "output_type": "stream",
     "text": [
      "To‘plamdagi unikal elementlar soni: 5\n"
     ]
    }
   ],
   "source": [
    "# To‘plam uzunligini aniqlovchi funksiya\n",
    "def toplam_uzunligi(toplam):\n",
    "    return len(toplam)  # len() metodi to‘plamdagi elementlar sonini qaytaradi\n",
    "\n",
    "# Misol uchun to‘plam\n",
    "toplam = {1, 2, 3, 4, 5}\n",
    "\n",
    "# Uzunligini aniqlash\n",
    "natija = toplam_uzunligi(toplam)\n",
    "\n",
    "# Natijani chiqarish\n",
    "print(\"To‘plamdagi unikal elementlar soni:\", natija)"
   ]
  },
  {
   "cell_type": "code",
   "execution_count": 7,
   "metadata": {},
   "outputs": [
    {
     "name": "stdout",
     "output_type": "stream",
     "text": [
      "Unikal elementlardan iborat to‘plam: {1, 2, 3, 4, 5}\n"
     ]
    }
   ],
   "source": [
    "# Ro‘yxatni to‘plamga o‘tkazuvchi funksiya\n",
    "def royxatdan_toplam(royxat):\n",
    "    return set(royxat)  # set() funksiyasi faqat unikal elementlarni qoldiradi\n",
    "\n",
    "# Misol uchun ro‘yxat\n",
    "royxat = [1, 2, 2, 3, 4, 4, 5, 5, 5]\n",
    "\n",
    "# To‘plamga aylantirish\n",
    "natija = royxatdan_toplam(royxat)\n",
    "\n",
    "# Natijani chiqarish\n",
    "print(\"Unikal elementlardan iborat to‘plam:\", natija)"
   ]
  },
  {
   "cell_type": "code",
   "execution_count": 8,
   "metadata": {},
   "outputs": [
    {
     "name": "stdout",
     "output_type": "stream",
     "text": [
      "Yangilangan to‘plam: {1, 2, 4, 5}\n"
     ]
    }
   ],
   "source": [
    "# To‘plamdan elementni olib tashlash funksiyasi\n",
    "def elementni_ochir(toplam, element):\n",
    "    toplam.discard(element)  # discard() funksiyasi element bo‘lsa o‘chiradi, bo‘lmasa xatolik chiqarmaydi\n",
    "    return toplam  # Yangilangan to‘plamni qaytaradi\n",
    "\n",
    "# Misol uchun to‘plam\n",
    "toplam = {1, 2, 3, 4, 5}\n",
    "\n",
    "# O‘chirish uchun element\n",
    "element = 3\n",
    "\n",
    "# Elementni olib tashlash\n",
    "natija = elementni_ochir(toplam, element)\n",
    "\n",
    "# Natijani chiqarish\n",
    "print(\"Yangilangan to‘plam:\", natija)"
   ]
  },
  {
   "cell_type": "code",
   "execution_count": 9,
   "metadata": {},
   "outputs": [
    {
     "name": "stdout",
     "output_type": "stream",
     "text": [
      "Tozalangan to‘plam: set()\n"
     ]
    }
   ],
   "source": [
    "# To‘plamni tozalash funksiyasi\n",
    "def toplamni_tozalash(toplam):\n",
    "    toplam.clear()  # clear() metodi barcha elementlarni o‘chiradi\n",
    "    return toplam  # Bo‘sh to‘plamni qaytaradi\n",
    "\n",
    "# Misol uchun to‘plam\n",
    "toplam = {1, 2, 3, 4, 5}\n",
    "\n",
    "# To‘plamni tozalash\n",
    "natija = toplamni_tozalash(toplam)\n",
    "\n",
    "# Natijani chiqarish\n",
    "print(\"Tozalangan to‘plam:\", natija)"
   ]
  },
  {
   "cell_type": "code",
   "execution_count": 10,
   "metadata": {},
   "outputs": [
    {
     "name": "stdout",
     "output_type": "stream",
     "text": [
      "toplam1 bo‘shmi? False\n",
      "toplam2 bo‘shmi? True\n"
     ]
    }
   ],
   "source": [
    "# To‘plam bo‘sh yoki yo‘qligini tekshiruvchi funksiya\n",
    "def toplam_boshmi(toplam):\n",
    "    return len(toplam) == 0  # Agar uzunligi 0 bo‘lsa, bo‘sh hisoblanadi\n",
    "\n",
    "# Misollar uchun to‘plamlar\n",
    "toplam1 = {1, 2, 3}\n",
    "toplam2 = set()  # Bo‘sh to‘plam\n",
    "\n",
    "# Natijalarni chiqarish\n",
    "print(\"toplam1 bo‘shmi?\", toplam_boshmi(toplam1))  # False\n",
    "print(\"toplam2 bo‘shmi?\", toplam_boshmi(toplam2))  # True"
   ]
  },
  {
   "cell_type": "code",
   "execution_count": 11,
   "metadata": {},
   "outputs": [
    {
     "name": "stdout",
     "output_type": "stream",
     "text": [
      "Simmetrik farq: {1, 2, 5, 6}\n"
     ]
    }
   ],
   "source": [
    "# Simmetrik farqni hisoblash funksiyasi\n",
    "def simmetrik_farq(toplam1, toplam2):\n",
    "    return toplam1 ^ toplam2  # ^ operatori simmetrik farqni topish uchun ishlatiladi\n",
    "\n",
    "# Misol uchun ikkita to‘plam\n",
    "toplam1 = {1, 2, 3, 4}\n",
    "toplam2 = {3, 4, 5, 6}\n",
    "\n",
    "# Simmetrik farqni topish\n",
    "natija = simmetrik_farq(toplam1, toplam2)\n",
    "\n",
    "# Natijani chiqarish\n",
    "print(\"Simmetrik farq:\", natija)\n",
    "\n"
   ]
  },
  {
   "cell_type": "code",
   "execution_count": 12,
   "metadata": {},
   "outputs": [
    {
     "name": "stdout",
     "output_type": "stream",
     "text": [
      "Yangi to‘plam: {1, 2, 3, 4}\n"
     ]
    }
   ],
   "source": [
    "# To‘plamga element qo‘shish funksiyasi\n",
    "def element_qosh(toplam, element):\n",
    "    toplam.add(element)  # .add() metodi elementni qo‘shadi\n",
    "    return toplam\n",
    "\n",
    "# Misol uchun to‘plam va yangi element\n",
    "toplam = {1, 2, 3}\n",
    "yangi_element = 4\n",
    "\n",
    "# Element qo‘shish\n",
    "natija = element_qosh(toplam, yangi_element)\n",
    "\n",
    "# Natijani chiqarish\n",
    "print(\"Yangi to‘plam:\", natija)"
   ]
  },
  {
   "cell_type": "code",
   "execution_count": 15,
   "metadata": {},
   "outputs": [
    {
     "name": "stdout",
     "output_type": "stream",
     "text": [
      "Olib tashlangan element: 1\n",
      "Yangi toplam: {2, 3, 4, 5}\n"
     ]
    }
   ],
   "source": [
    "# To‘plamdan elementni olib tashlash funksiyasi\n",
    "def element_ol(toplam):\n",
    "    if toplam:  # To‘plam bo‘sh emasligini tekshiramiz\n",
    "        return toplam.pop()  # .pop() tasodifiy elementni o‘chiradi va qaytaradi\n",
    "    else:\n",
    "        return \"To‘plam bo‘sh, hech narsa olib bo‘lmaydi!\"\n",
    "\n",
    "# Misol uchun to‘plam\n",
    "toplam = {1, 2, 3, 4, 5}\n",
    "\n",
    "# Tasodifiy elementni olib tashlash\n",
    "ochirilgan_element = element_ol(toplam)\n",
    "\n",
    "# Natijani chiqarish\n",
    "print(\"Olib tashlangan element:\", ochirilgan_element)\n",
    "print(\"Yangi toplam:\", toplam)"
   ]
  },
  {
   "cell_type": "code",
   "execution_count": 16,
   "metadata": {},
   "outputs": [
    {
     "name": "stdout",
     "output_type": "stream",
     "text": [
      "Eng katta element: 30\n"
     ]
    }
   ],
   "source": [
    "# To‘plamdagi eng katta elementni topish funksiyasi\n",
    "def eng_katta_element(toplam):\n",
    "    if toplam:  # To‘plam bo‘sh emasligini tekshiramiz\n",
    "        return max(toplam)  # max() eng katta elementni qaytaradi\n",
    "    else:\n",
    "        return \"To‘plam bo‘sh, eng katta element yo‘q!\"\n",
    "\n",
    "# Misol uchun to‘plam\n",
    "toplam = {10, 25, 8, 14, 30}\n",
    "\n",
    "# Eng katta elementni topish\n",
    "natija = eng_katta_element(toplam)\n",
    "\n",
    "# Natijani chiqarish\n",
    "print(\"Eng katta element:\", natija)"
   ]
  },
  {
   "cell_type": "code",
   "execution_count": 17,
   "metadata": {},
   "outputs": [
    {
     "name": "stdout",
     "output_type": "stream",
     "text": [
      "Eng kichik element: 8\n"
     ]
    }
   ],
   "source": [
    "# To‘plamdagi eng kichik elementni topish funksiyasi\n",
    "def eng_kichik_element(toplam):\n",
    "    if toplam:  # To‘plam bo‘sh emasligini tekshiramiz\n",
    "        return min(toplam)  # min() eng kichik elementni qaytaradi\n",
    "    else:\n",
    "        return \"To‘plam bo‘sh, eng kichik element yo‘q!\"\n",
    "\n",
    "# Misol uchun to‘plam\n",
    "toplam = {10, 25, 8, 14, 30}\n",
    "\n",
    "# Eng kichik elementni topish\n",
    "natija = eng_kichik_element(toplam)\n",
    "\n",
    "# Natijani chiqarish\n",
    "print(\"Eng kichik element:\", natija)"
   ]
  },
  {
   "cell_type": "code",
   "execution_count": 18,
   "metadata": {},
   "outputs": [
    {
     "name": "stdout",
     "output_type": "stream",
     "text": [
      "Juft sonlar to‘plami: {8, 10, 30, 14}\n"
     ]
    }
   ],
   "source": [
    "# To‘plamdagi faqat juft sonlarni tanlab olish funksiyasi\n",
    "def faqat_juft_sonlar(toplam):\n",
    "    return {x for x in toplam if x % 2 == 0}  # Juft sonlarni yangi to‘plamga yig‘amiz\n",
    "\n",
    "# Misol uchun to‘plam\n",
    "toplam = {10, 25, 8, 14, 30, 17, 9}\n",
    "\n",
    "# Juft sonlarni ajratib olish\n",
    "natija = faqat_juft_sonlar(toplam)\n",
    "\n",
    "# Natijani chiqarish\n",
    "print(\"Juft sonlar to‘plami:\", natija)"
   ]
  },
  {
   "cell_type": "code",
   "execution_count": 19,
   "metadata": {},
   "outputs": [
    {
     "name": "stdout",
     "output_type": "stream",
     "text": [
      "Toq sonlar to‘plami: {17, 25, 9}\n"
     ]
    }
   ],
   "source": [
    "# To‘plamdagi faqat toq sonlarni tanlab olish funksiyasi\n",
    "def faqat_toq_sonlar(toplam):\n",
    "    return {x for x in toplam if x % 2 != 0}  # Toq sonlarni yangi to‘plamga yig‘amiz\n",
    "\n",
    "# Misol uchun to‘plam\n",
    "toplam = {10, 25, 8, 14, 30, 17, 9}\n",
    "\n",
    "# Toq sonlarni ajratib olish\n",
    "natija = faqat_toq_sonlar(toplam)\n",
    "\n",
    "# Natijani chiqarish\n",
    "print(\"Toq sonlar to‘plami:\", natija)"
   ]
  },
  {
   "cell_type": "code",
   "execution_count": 21,
   "metadata": {},
   "outputs": [
    {
     "name": "stdout",
     "output_type": "stream",
     "text": [
      "Hosil bo'lgan to'plam: {1, 2, 3, 4, 5, 6, 7, 8, 9, 10}\n"
     ]
    }
   ],
   "source": [
    "# Berilgan oraliqdagi sonlardan to‘plam yaratish funksiyasi\n",
    "def oraliq_toplam(bosh, oxirgi):\n",
    "    return set(range(bosh, oxirgi + 1))  # Toplam yaratamiz\n",
    "\n",
    "# Misol: 1 dan 10 gacha bo‘lgan sonlardan iborat to‘plam\n",
    "natija = oraliq_toplam(1, 10)\n",
    "\n",
    "# Natijani chiqarish\n",
    "print(\"Hosil bo'lgan to'plam:\", natija)"
   ]
  },
  {
   "cell_type": "code",
   "execution_count": 24,
   "metadata": {},
   "outputs": [
    {
     "name": "stdout",
     "output_type": "stream",
     "text": [
      "Birlashtirilgan va unikal elementlardan iborat toplam: {1, 2, 3, 4, 5, 6, 7, 8, 9}\n"
     ]
    }
   ],
   "source": [
    "# Ikki ro‘yxatni birlashtirib, takroriy elementlarni olib tashlash funksiyasi\n",
    "def birlashtir_va_unikal(qator1, qator2):\n",
    "    return set(qator1) | set(qator2)  # To‘plamlar birlashuvi orqali unikal elementlarni olish\n",
    "\n",
    "# Misol: Ikkita ro‘yxat\n",
    "list1 = [1, 2, 3, 4, 5, 5, 6]\n",
    "list2 = [4, 5, 6, 7, 8, 9]\n",
    "\n",
    "# Funksiyani chaqirish\n",
    "natija = birlashtir_va_unikal(list1, list2)\n",
    "\n",
    "# Natijani chiqarish\n",
    "print(\"Birlashtirilgan va unikal elementlardan iborat toplam:\", natija)"
   ]
  },
  {
   "cell_type": "code",
   "execution_count": 26,
   "metadata": {},
   "outputs": [
    {
     "name": "stdout",
     "output_type": "stream",
     "text": [
      "To‘plamlar kesishmaydi: True\n"
     ]
    }
   ],
   "source": [
    "# Ikki to‘plamning o‘zaro kesishmasligini tekshirish funksiyasi\n",
    "def disjoint_tekshir(toplam1, toplam2):\n",
    "    return toplam1.isdisjoint(toplam2)  # Agar umumiy element bo‘lmasa, True qaytaradi\n",
    "\n",
    "# Misol: Ikkita to‘plam\n",
    "toplam1 = {1, 2, 3, 4}\n",
    "toplam2 = {5, 6, 7, 8}\n",
    "\n",
    "# Funksiyani chaqirish\n",
    "natija = disjoint_tekshir(toplam1, toplam2)\n",
    "\n",
    "# Natijani chiqarish\n",
    "print(\"To‘plamlar kesishmaydi:\", natija)"
   ]
  },
  {
   "cell_type": "code",
   "execution_count": 27,
   "metadata": {},
   "outputs": [
    {
     "name": "stdout",
     "output_type": "stream",
     "text": [
      "Dublikatlarsiz ro‘yxat: [1, 2, 3, 4, 5, 6, 7]\n"
     ]
    }
   ],
   "source": [
    "# Ro‘yxatdan dublikatlarni olib tashlash funksiyasi\n",
    "def dublikatlarni_olib_tashla(royxat):\n",
    "    return list(set(royxat))  # Ro‘yxatni to‘plamga o‘tkazib, yana ro‘yxatga aylantiramiz\n",
    "\n",
    "# Misol: Dublikatlari bor ro‘yxat\n",
    "royxat = [1, 2, 2, 3, 4, 4, 5, 6, 6, 6, 7]\n",
    "\n",
    "# Funksiyani chaqirish\n",
    "yangi_royxat = dublikatlarni_olib_tashla(royxat)\n",
    "\n",
    "# Natijani chiqarish\n",
    "print(\"Dublikatlarsiz ro‘yxat:\", yangi_royxat)"
   ]
  },
  {
   "cell_type": "code",
   "execution_count": 28,
   "metadata": {},
   "outputs": [
    {
     "name": "stdout",
     "output_type": "stream",
     "text": [
      "Noyob elementlar soni: 7\n"
     ]
    }
   ],
   "source": [
    "# Ro‘yxatdagi noyob elementlar sonini aniqlovchi funksiya\n",
    "def unikal_elementlar_soni(royxat):\n",
    "    return len(set(royxat))  # Ro‘yxatni to‘plamga o‘tkazib, uzunligini qaytaramiz\n",
    "\n",
    "# Misol: Dublikatlari bor ro‘yxat\n",
    "royxat = [1, 2, 2, 3, 4, 4, 5, 6, 6, 6, 7]\n",
    "\n",
    "# Funksiyani chaqirish\n",
    "natija = unikal_elementlar_soni(royxat)\n",
    "\n",
    "# Natijani chiqarish\n",
    "print(\"Noyob elementlar soni:\", natija)"
   ]
  },
  {
   "cell_type": "code",
   "execution_count": 29,
   "metadata": {},
   "outputs": [
    {
     "name": "stdout",
     "output_type": "stream",
     "text": [
      "Tasodifiy to‘plam: {49, 50, 19, 87, 25}\n"
     ]
    }
   ],
   "source": [
    "import random  # Tasodifiy sonlar generatsiya qilish uchun modul\n",
    "\n",
    "# Tasodifiy to‘plam yaratish funksiyasi\n",
    "def tasodifiy_toplam(yigindi, min_son, max_son):\n",
    "    return set(random.randint(min_son, max_son) for _ in range(yigindi))\n",
    "\n",
    "# Misol: 5 ta tasodifiy sonni 1 dan 100 gacha bo‘lgan oraliqda yaratish\n",
    "natija = tasodifiy_toplam(5, 1, 100)\n",
    "\n",
    "# Natijani chiqarish\n",
    "print(\"Tasodifiy to‘plam:\", natija)"
   ]
  },
  {
   "cell_type": "code",
   "execution_count": null,
   "metadata": {},
   "outputs": [],
   "source": []
  }
 ],
 "metadata": {
  "kernelspec": {
   "display_name": "Python 3",
   "language": "python",
   "name": "python3"
  },
  "language_info": {
   "codemirror_mode": {
    "name": "ipython",
    "version": 3
   },
   "file_extension": ".py",
   "mimetype": "text/x-python",
   "name": "python",
   "nbconvert_exporter": "python",
   "pygments_lexer": "ipython3",
   "version": "3.10.10"
  }
 },
 "nbformat": 4,
 "nbformat_minor": 2
}
