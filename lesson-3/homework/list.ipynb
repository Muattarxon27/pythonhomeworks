{
 "cells": [
  {
   "cell_type": "code",
   "execution_count": 5,
   "metadata": {},
   "outputs": [
    {
     "name": "stdout",
     "output_type": "stream",
     "text": [
      "Sum of elements: 15\n"
     ]
    }
   ],
   "source": [
    "def sum_of_elements(numbers):\n",
    "    return sum(numbers)\n",
    "\n",
    "# Example usage\n",
    "numbers = [1, 2, 3, 4, 5]  # You can change this list\n",
    "total = sum_of_elements(numbers)\n",
    "\n",
    "# Print result\n",
    "print(\"Sum of elements:\", total)"
   ]
  },
  {
   "cell_type": "code",
   "execution_count": 6,
   "metadata": {},
   "outputs": [
    {
     "name": "stdout",
     "output_type": "stream",
     "text": [
      "Eng katta element: 99\n"
     ]
    }
   ],
   "source": [
    "def eng_katta_element(sonlar):\n",
    "    return max(sonlar)\n",
    "\n",
    "# Misol uchun ro‘yxat\n",
    "sonlar = [10, 25, 3, 99, 47]  # Istalgan sonlarni kiritish mumkin\n",
    "eng_katta = eng_katta_element(sonlar)\n",
    "\n",
    "# Natijani chiqarish\n",
    "print(\"Eng katta element:\", eng_katta)"
   ]
  },
  {
   "cell_type": "code",
   "execution_count": 7,
   "metadata": {},
   "outputs": [
    {
     "name": "stdout",
     "output_type": "stream",
     "text": [
      "Eng kichik element: 3\n"
     ]
    }
   ],
   "source": [
    "def eng_kichik_element(sonlar):\n",
    "    return min(sonlar)\n",
    "\n",
    "# Misol uchun ro‘yxat\n",
    "sonlar = [10, 25, 3, 99, 47]  # Istalgan sonlarni kiritish mumkin\n",
    "eng_kichik = eng_kichik_element(sonlar)\n",
    "\n",
    "# Natijani chiqarish\n",
    "print(\"Eng kichik element:\", eng_kichik)"
   ]
  },
  {
   "cell_type": "code",
   "execution_count": null,
   "metadata": {},
   "outputs": [
    {
     "name": "stdout",
     "output_type": "stream",
     "text": [
      "25 ro‘yxatda bor.\n"
     ]
    }
   ],
   "source": [
    "def elementni_tekshirish(sonlar, element):\n",
    "    return element in sonlar\n",
    "\n",
    "# Misol uchun ro‘yxat\n",
    "sonlar = [10, 25, 3, 99, 47]  # Istalgan sonlarni kiritish mumkin\n",
    "element = 25  # Qidirilayotgan elementni shu yerda o‘zgartirish mumkin\n",
    "\n",
    "# Natijani chiqarish\n",
    "if elementni_tekshirish(sonlar, element):\n",
    "    print(f\"{element} ro‘yxatda bor.\")\n",
    "else:\n",
    "    print(f\"{element} ro‘yxatda yo‘q.\")"
   ]
  },
  {
   "cell_type": "code",
   "execution_count": 12,
   "metadata": {},
   "outputs": [
    {
     "name": "stdout",
     "output_type": "stream",
     "text": [
      "Birinchi element: 10\n"
     ]
    }
   ],
   "source": [
    "def birinchi_element(sonlar):\n",
    "    if len(sonlar) > 0:\n",
    "        return sonlar[0]\n",
    "    else:\n",
    "        return \"Ro‘yxat bo‘sh!\"\n",
    "\n",
    "# Misol uchun ro‘yxatlar\n",
    "sonlar = [10, 25, 3, 99, 47]  # Istalgan sonlarni kiritish mumkin\n",
    "# sonlar = []  # Bo‘sh ro‘yxatni tekshirish uchun shu qatordan foydalaning\n",
    "\n",
    "# Natijani chiqarish\n",
    "print(\"Birinchi element:\", birinchi_element(sonlar))"
   ]
  },
  {
   "cell_type": "code",
   "execution_count": 38,
   "metadata": {},
   "outputs": [
    {
     "name": "stdout",
     "output_type": "stream",
     "text": [
      "Yangi ro‘yxat (birinchi 3 ta element): [10, 25, 3]\n"
     ]
    }
   ],
   "source": [
    "def uchta_birinchi_element(sonlar):\n",
    "    return sonlar[:3]  # Ro‘yxatning 0-dan 3-gacha bo‘lgan qismini ajratib oladi\n",
    "\n",
    "# Misol uchun ro‘yxat\n",
    "sonlar = [10, 25, 3, 99, 47]  # Istalgan sonlarni kiritish mumkin\n",
    "\n",
    "# Natijani chiqarish\n",
    "yangi_royxat = uchta_birinchi_element(sonlar)\n",
    "print(\"Yangi ro‘yxat (birinchi 3 ta element):\", yangi_royxat)"
   ]
  },
  {
   "cell_type": "code",
   "execution_count": 39,
   "metadata": {},
   "outputs": [
    {
     "name": "stdout",
     "output_type": "stream",
     "text": [
      "Teskari ro‘yxat: [47, 99, 3, 25, 10]\n"
     ]
    }
   ],
   "source": [
    "def teskari_royxat(sonlar):\n",
    "    return sonlar[::-1]  # Ro‘yxatni teskari o‘giradi\n",
    "\n",
    "# Misol uchun ro‘yxat\n",
    "sonlar = [10, 25, 3, 99, 47]  # Istalgan sonlarni kiritish mumkin\n",
    "\n",
    "# Natijani chiqarish\n",
    "teskari = teskari_royxat(sonlar)\n",
    "print(\"Teskari ro‘yxat:\", teskari)"
   ]
  },
  {
   "cell_type": "code",
   "execution_count": 40,
   "metadata": {},
   "outputs": [
    {
     "name": "stdout",
     "output_type": "stream",
     "text": [
      "Tartiblangan ro‘yxat: [3, 10, 25, 47, 99]\n"
     ]
    }
   ],
   "source": [
    "# Ro‘yxatni tartiblangan holda qaytaruvchi funksiya\n",
    "def tartiblangan_royxat(sonlar):\n",
    "    return sorted(sonlar)  # Ro‘yxatni o‘sish tartibida saralaydi\n",
    "\n",
    "# Misol uchun ro‘yxat\n",
    "sonlar = [10, 25, 3, 99, 47]  # Istalgan sonlarni kiritish mumkin\n",
    "\n",
    "# Natijani chiqarish\n",
    "yangi_royxat = tartiblangan_royxat(sonlar)\n",
    "print(\"Tartiblangan ro‘yxat:\", yangi_royxat)"
   ]
  },
  {
   "cell_type": "code",
   "execution_count": 42,
   "metadata": {},
   "outputs": [
    {
     "name": "stdout",
     "output_type": "stream",
     "text": [
      "Takrorlanmas elementlar ro‘yxati: [99, 3, 10, 47, 25]\n"
     ]
    }
   ],
   "source": [
    "def noyob_elementlar(sonlar):\n",
    "    return list(set(sonlar))  # Ro‘yxatni to‘plam (set) ga aylantirib, takrorlarni olib tashlaydi\n",
    "\n",
    "# Misol uchun ro‘yxat\n",
    "sonlar = [10, 25, 3, 99, 47, 25, 10, 3]  # Takroriy elementlar bor\n",
    "\n",
    "# Natijani chiqarish\n",
    "yangi_royxat = noyob_elementlar(sonlar)\n",
    "print(\"Takrorlanmas elementlar ro‘yxati:\", yangi_royxat)"
   ]
  },
  {
   "cell_type": "code",
   "execution_count": null,
   "metadata": {},
   "outputs": [],
   "source": [
    "def element_qoshish(sonlar, indeks, element):\n",
    "    sonlar.insert(indeks, element)  # Berilgan indeksga element qo‘shish\n",
    "    return sonlar\n",
    "\n",
    "# Misol uchun ro‘yxat\n",
    "sonlar = [10, 25, 3, 99, 47]  # Asosiy ro‘yxat\n",
    "indeks = 2  # Element qo‘shish kerak bo‘lgan joy\n",
    "yangi_element = 50  # Qo‘shiladigan element\n",
    "\n",
    "# Natijani chiqarish\n",
    "yangi_royxat = element_qoshish(sonlar, indeks, yangi_element)\n",
    "print(\"Yangi ro‘yxat:\", yangi_royxat)\n"
   ]
  },
  {
   "cell_type": "code",
   "execution_count": 45,
   "metadata": {},
   "outputs": [
    {
     "name": "stdout",
     "output_type": "stream",
     "text": [
      "25 elementining indeksi: 1\n"
     ]
    }
   ],
   "source": [
    "def element_indeksi(sonlar, element):\n",
    "    if element in sonlar:\n",
    "        return sonlar.index(element)  # Elementning indeksini qaytaradi\n",
    "    else:\n",
    "        return \"Element ro‘yxatda yo‘q!\"\n",
    "\n",
    "# Misol uchun ro‘yxat\n",
    "sonlar = [10, 25, 3, 99, 47, 25, 3]  # Asosiy ro‘yxat\n",
    "qidirilayotgan_element = 25 # Indeksi topiladigan element\n",
    "\n",
    "# Natijani chiqarish\n",
    "indeks = element_indeksi(sonlar, qidirilayotgan_element)\n",
    "print(f\"{qidirilayotgan_element} elementining indeksi:\", indeks)"
   ]
  },
  {
   "cell_type": "code",
   "execution_count": 46,
   "metadata": {},
   "outputs": [
    {
     "name": "stdout",
     "output_type": "stream",
     "text": [
      "Ro‘yxat 1 bo‘shmi? False\n",
      "Ro‘yxat 2 bo‘shmi? True\n"
     ]
    }
   ],
   "source": [
    "# Ro‘yxat bo‘sh yoki yo‘qligini tekshiruvchi funksiya\n",
    "def royxat_boshmi(sonlar):\n",
    "    return len(sonlar) == 0  # Ro‘yxat uzunligi 0 ga teng bo‘lsa, True qaytaradi\n",
    "\n",
    "# Misol uchun ro‘yxatlar\n",
    "sonlar1 = [10, 25, 3]  # To‘ldirilgan ro‘yxat\n",
    "sonlar2 = []  # Bo‘sh ro‘yxat\n",
    "\n",
    "# Natijani chiqarish\n",
    "print(\"Ro‘yxat 1 bo‘shmi?\", royxat_boshmi(sonlar1))  # False qaytaradi\n",
    "print(\"Ro‘yxat 2 bo‘shmi?\", royxat_boshmi(sonlar2))  # True qaytaradi"
   ]
  },
  {
   "cell_type": "code",
   "execution_count": 47,
   "metadata": {},
   "outputs": [
    {
     "name": "stdout",
     "output_type": "stream",
     "text": [
      "Ro‘yxatda 4 ta juft son bor.\n"
     ]
    }
   ],
   "source": [
    "# Ro‘yxatda nechta juft son borligini hisoblovchi funksiya\n",
    "def juft_sonlar_soni(sonlar):\n",
    "    return sum(1 for son in sonlar if son % 2 == 0)  # Har bir juft son uchun 1 qo‘shib boradi\n",
    "\n",
    "# Misol uchun ro‘yxat\n",
    "sonlar = [10, 25, 3, 99, 48, 50, 12]  # Juft va toq sonlar bor\n",
    "\n",
    "# Natijani chiqarish\n",
    "juftlar_soni = juft_sonlar_soni(sonlar)\n",
    "print(\"Ro‘yxatda\", juftlar_soni, \"ta juft son bor.\")"
   ]
  },
  {
   "cell_type": "code",
   "execution_count": 48,
   "metadata": {},
   "outputs": [
    {
     "name": "stdout",
     "output_type": "stream",
     "text": [
      "Ro‘yxatda 3 ta toq son bor.\n"
     ]
    }
   ],
   "source": [
    "# Ro‘yxatda nechta toq son borligini hisoblovchi funksiya\n",
    "def toq_sonlar_soni(sonlar):\n",
    "    return sum(1 for son in sonlar if son % 2 != 0)  # Har bir toq son uchun 1 qo‘shib boradi\n",
    "\n",
    "# Misol uchun ro‘yxat\n",
    "sonlar = [10, 25, 3, 99, 48, 50, 12]  # Juft va toq sonlar bor\n",
    "\n",
    "# Natijani chiqarish\n",
    "toq_sonlar = toq_sonlar_soni(sonlar)\n",
    "print(\"Ro‘yxatda\", toq_sonlar, \"ta toq son bor.\")"
   ]
  },
  {
   "cell_type": "code",
   "execution_count": 49,
   "metadata": {},
   "outputs": [
    {
     "name": "stdout",
     "output_type": "stream",
     "text": [
      "Birlashgan ro‘yxat: [1, 2, 3, 4, 5, 6]\n"
     ]
    }
   ],
   "source": [
    "# Ikkita ro‘yxatni birlashtiruvchi funksiya\n",
    "def royxat_birlash(royxat1, royxat2):\n",
    "    return royxat1 + royxat2  # Ro‘yxatlarni qo‘shish orqali birlashtiradi\n",
    "\n",
    "# Misol uchun ro‘yxatlar\n",
    "royxat1 = [1, 2, 3]\n",
    "royxat2 = [4, 5, 6]\n",
    "\n",
    "# Natijani chiqarish\n",
    "yangi_royxat = royxat_birlash(royxat1, royxat2)\n",
    "print(\"Birlashgan ro‘yxat:\", yangi_royxat)\n"
   ]
  },
  {
   "cell_type": "code",
   "execution_count": 50,
   "metadata": {},
   "outputs": [
    {
     "name": "stdout",
     "output_type": "stream",
     "text": [
      "Subro‘yxat mavjudmi? True\n"
     ]
    }
   ],
   "source": [
    "# Ro‘yxatda subro‘yxat mavjudligini tekshiruvchi funksiya\n",
    "def subroyxat_bormi(royxat, subroyxat):\n",
    "    n, m = len(royxat), len(subroyxat)\n",
    "    \n",
    "    # Agar subro‘yxat uzunligi asosiy ro‘yxatdan katta bo‘lsa, mavjud emas\n",
    "    if m > n:\n",
    "        return False  \n",
    "\n",
    "    # Har bir indeksdan boshlab subro‘yxatni tekshiramiz\n",
    "    for i in range(n - m + 1):\n",
    "        if royxat[i:i + m] == subroyxat:\n",
    "            return True  # Agar mos keladigan qism topilsa, True qaytariladi\n",
    "            \n",
    "    return False  # Agar hech qanday moslik topilmasa, False qaytariladi\n",
    "\n",
    "# Misol uchun ro‘yxatlar\n",
    "asosiy_royxat = [1, 2, 3, 4, 5, 6, 7, 8]\n",
    "kichik_royxat = [3, 4, 5]\n",
    "\n",
    "# Natijani chiqarish\n",
    "natija = subroyxat_bormi(asosiy_royxat, kichik_royxat)\n",
    "print(\"Subro‘yxat mavjudmi?\", natija)"
   ]
  },
  {
   "cell_type": "code",
   "execution_count": 51,
   "metadata": {},
   "outputs": [
    {
     "name": "stdout",
     "output_type": "stream",
     "text": [
      "Yangi ro‘yxat: [10, 50, 3, 99, 47, 25, 3]\n"
     ]
    }
   ],
   "source": [
    "# Ro‘yxatda birinchi uchragan elementni almashtiruvchi funksiya\n",
    "def element_almashtirish(royxat, eski_element, yangi_element):\n",
    "    if eski_element in royxat:  # Agar element ro‘yxatda bo‘lsa\n",
    "        indeks = royxat.index(eski_element)  # Uning indeksini topamiz\n",
    "        royxat[indeks] = yangi_element  # O‘sha indeksdagi elementni almashtiramiz\n",
    "    return royxat  # Yangilangan ro‘yxatni qaytaramiz\n",
    "\n",
    "# Misol uchun ro‘yxat\n",
    "sonlar = [10, 25, 3, 99, 47, 25, 3]  \n",
    "eski = 25  # Almashtiriladigan element\n",
    "yangi = 50  # Yangi qo‘yiladigan element\n",
    "\n",
    "# Natijani chiqarish\n",
    "yangi_royxat = element_almashtirish(sonlar, eski, yangi)\n",
    "print(\"Yangi ro‘yxat:\", yangi_royxat)"
   ]
  },
  {
   "cell_type": "code",
   "execution_count": 52,
   "metadata": {},
   "outputs": [
    {
     "name": "stdout",
     "output_type": "stream",
     "text": [
      "Ikkinchi eng katta element: 47\n"
     ]
    }
   ],
   "source": [
    "# Ro‘yxatdan ikkinchi eng katta elementni topuvchi funksiya\n",
    "def ikkinchi_katta(royxat):\n",
    "    noyob_sonlar = list(set(royxat))  # Takrorlangan elementlarni olib tashlaymiz\n",
    "    if len(noyob_sonlar) < 2:\n",
    "        return \"Ro‘yxatda ikkinchi eng katta element yo‘q!\"\n",
    "    \n",
    "    noyob_sonlar.sort(reverse=True)  # Kamayish tartibida saralash\n",
    "    return noyob_sonlar[1]  # Ikkinchi eng katta elementni qaytarish\n",
    "\n",
    "# Misol uchun ro‘yxat\n",
    "sonlar = [10, 25, 3, 99, 47, 25, 3]\n",
    "\n",
    "# Natijani chiqarish\n",
    "natija = ikkinchi_katta(sonlar)\n",
    "print(\"Ikkinchi eng katta element:\", natija)"
   ]
  },
  {
   "cell_type": "code",
   "execution_count": 53,
   "metadata": {},
   "outputs": [
    {
     "name": "stdout",
     "output_type": "stream",
     "text": [
      "Ikkinchi eng kichik element: 10\n"
     ]
    }
   ],
   "source": [
    "# Ro‘yxatdan ikkinchi eng kichik elementni topuvchi funksiya\n",
    "def ikkinchi_kichik(royxat):\n",
    "    noyob_sonlar = list(set(royxat))  # Takrorlangan elementlarni olib tashlaymiz\n",
    "    if len(noyob_sonlar) < 2:\n",
    "        return \"Ro‘yxatda ikkinchi eng kichik element yo‘q!\"\n",
    "    \n",
    "    noyob_sonlar.sort()  # O‘sish tartibida saralash\n",
    "    return noyob_sonlar[1]  # Ikkinchi eng kichik elementni qaytarish\n",
    "\n",
    "# Misol uchun ro‘yxat\n",
    "sonlar = [10, 25, 3, 99, 47, 25, 3]\n",
    "\n",
    "# Natijani chiqarish\n",
    "natija = ikkinchi_kichik(sonlar)\n",
    "print(\"Ikkinchi eng kichik element:\", natija)"
   ]
  },
  {
   "cell_type": "code",
   "execution_count": 54,
   "metadata": {},
   "outputs": [
    {
     "name": "stdout",
     "output_type": "stream",
     "text": [
      "Juft sonlar: [10, 48, 50, 12]\n"
     ]
    }
   ],
   "source": [
    "# Juft sonlarni ajratib oluvchi funksiya\n",
    "def faqat_juft_sonlar(royxat):\n",
    "    return [son for son in royxat if son % 2 == 0]  # Faqat juft sonlarni oladi\n",
    "\n",
    "# Misol uchun ro‘yxat\n",
    "sonlar = [10, 25, 3, 99, 48, 50, 12]\n",
    "\n",
    "# Natijani chiqarish\n",
    "juft_sonlar = faqat_juft_sonlar(sonlar)\n",
    "print(\"Juft sonlar:\", juft_sonlar)"
   ]
  },
  {
   "cell_type": "code",
   "execution_count": 55,
   "metadata": {},
   "outputs": [
    {
     "name": "stdout",
     "output_type": "stream",
     "text": [
      "Toq sonlar: [25, 3, 99]\n"
     ]
    }
   ],
   "source": [
    "# Toq sonlarni ajratib oluvchi funksiya\n",
    "def faqat_toq_sonlar(royxat):\n",
    "    return [son for son in royxat if son % 2 != 0]  # Faqat toq sonlarni oladi\n",
    "\n",
    "# Misol uchun ro‘yxat\n",
    "sonlar = [10, 25, 3, 99, 48, 50, 12]\n",
    "\n",
    "# Natijani chiqarish\n",
    "toq_sonlar = faqat_toq_sonlar(sonlar)\n",
    "print(\"Toq sonlar:\", toq_sonlar)"
   ]
  },
  {
   "cell_type": "code",
   "execution_count": 56,
   "metadata": {},
   "outputs": [
    {
     "name": "stdout",
     "output_type": "stream",
     "text": [
      "Ro‘yxat uzunligi: 7\n"
     ]
    }
   ],
   "source": [
    "# Ro‘yxat uzunligini aniqlovchi funksiya\n",
    "def royxat_uzunligi(royxat):\n",
    "    return len(royxat)  # len() funksiyasi orqali elementlar sonini qaytaramiz\n",
    "\n",
    "# Misol uchun ro‘yxat\n",
    "sonlar = [10, 25, 3, 99, 48, 50, 12]\n",
    "\n",
    "# Natijani chiqarish\n",
    "uzunlik = royxat_uzunligi(sonlar)\n",
    "print(\"Ro‘yxat uzunligi:\", uzunlik)\n"
   ]
  },
  {
   "cell_type": "code",
   "execution_count": 57,
   "metadata": {},
   "outputs": [
    {
     "name": "stdout",
     "output_type": "stream",
     "text": [
      "Asl ro‘yxat: [10, 25, 3, 99, 48, 50, 12]\n",
      "Nusxa ro‘yxat: [10, 25, 3, 99, 48, 50, 12]\n"
     ]
    }
   ],
   "source": [
    "# Ro‘yxatdan nusxa olish funksiyasi\n",
    "def royxat_nusxasi(royxat):\n",
    "    return royxat.copy()  # .copy() usuli ro‘yxatning yangi nusxasini qaytaradi\n",
    "\n",
    "# Misol uchun ro‘yxat\n",
    "sonlar = [10, 25, 3, 99, 48, 50, 12]\n",
    "\n",
    "# Ro‘yxat nusxasini yaratish\n",
    "yangi_royxat = royxat_nusxasi(sonlar)\n",
    "\n",
    "# Natijani chiqarish\n",
    "print(\"Asl ro‘yxat:\", sonlar)\n",
    "print(\"Nusxa ro‘yxat:\", yangi_royxat)"
   ]
  },
  {
   "cell_type": "code",
   "execution_count": 58,
   "metadata": {},
   "outputs": [
    {
     "name": "stdout",
     "output_type": "stream",
     "text": [
      "Toq uzunlikdagi ro‘yxat o‘rta elementi: 3\n",
      "Juft uzunlikdagi ro‘yxat o‘rta elementlari: [3, 99]\n"
     ]
    }
   ],
   "source": [
    "# Ro‘yxatning o‘rtasidagi element(lar)ni topuvchi funksiya\n",
    "def ortadagi_element(royxat):\n",
    "    uzunlik = len(royxat)  # Ro‘yxat uzunligini aniqlaymiz\n",
    "    if uzunlik == 0:\n",
    "        return \"Ro‘yxat bo‘sh!\"  # Agar ro‘yxat bo‘sh bo‘lsa, xabar qaytaramiz\n",
    "    \n",
    "    indeks = uzunlik // 2  # O‘rta indeksni hisoblaymiz\n",
    "\n",
    "    if uzunlik % 2 == 1:  # Agar ro‘yxat uzunligi toq bo‘lsa\n",
    "        return royxat[indeks]  # Bitta o‘rta elementni qaytaramiz\n",
    "    else:  # Agar ro‘yxat uzunligi juft bo‘lsa\n",
    "        return [royxat[indeks - 1], royxat[indeks]]  # Ikki o‘rta elementni qaytaramiz\n",
    "\n",
    "# Misol uchun ro‘yxatlar\n",
    "royxat1 = [10, 25, 3, 99, 48]  # Toq uzunlik\n",
    "royxat2 = [10, 25, 3, 99, 48, 50]  # Juft uzunlik\n",
    "\n",
    "# Natijani chiqarish\n",
    "print(\"Toq uzunlikdagi ro‘yxat o‘rta elementi:\", ortadagi_element(royxat1))\n",
    "print(\"Juft uzunlikdagi ro‘yxat o‘rta elementlari:\", ortadagi_element(royxat2))"
   ]
  },
  {
   "cell_type": "code",
   "execution_count": 59,
   "metadata": {},
   "outputs": [
    {
     "name": "stdout",
     "output_type": "stream",
     "text": [
      "Subro‘yxatdagi eng katta element: 99\n"
     ]
    }
   ],
   "source": [
    "# Subro‘yxatdan (sublist) eng katta elementni topuvchi funksiya\n",
    "def subroyxat_eng_katta(royxat, boshlanish, tugash):\n",
    "    subroyxat = royxat[boshlanish:tugash]  # Berilgan indekslar bo‘yicha subro‘yxat yaratamiz\n",
    "    if not subroyxat:\n",
    "        return \"Subro‘yxat bo‘sh!\"  # Agar subro‘yxat bo‘sh bo‘lsa, xabar chiqaramiz\n",
    "    return max(subroyxat)  # Subro‘yxatdagi eng katta elementni qaytaramiz\n",
    "\n",
    "# Misol uchun ro‘yxat\n",
    "sonlar = [10, 25, 3, 99, 48, 50, 12]\n",
    "\n",
    "# Subro‘yxatdan eng katta elementni topish (indekslar: 1 dan 5 gacha)\n",
    "natija = subroyxat_eng_katta(sonlar, 1, 5)\n",
    "\n",
    "# Natijani chiqarish\n",
    "print(\"Subro‘yxatdagi eng katta element:\", natija)"
   ]
  },
  {
   "cell_type": "code",
   "execution_count": 60,
   "metadata": {},
   "outputs": [
    {
     "name": "stdout",
     "output_type": "stream",
     "text": [
      "Subro‘yxatdagi eng kichik element: 3\n"
     ]
    }
   ],
   "source": [
    "# Subro‘yxatdan (sublist) eng kichik elementni topuvchi funksiya\n",
    "def subroyxat_eng_kichik(royxat, boshlanish, tugash):\n",
    "    subroyxat = royxat[boshlanish:tugash]  # Berilgan indekslar bo‘yicha subro‘yxat yaratamiz\n",
    "    if not subroyxat:\n",
    "        return \"Subro‘yxat bo‘sh!\"  # Agar subro‘yxat bo‘sh bo‘lsa, xabar chiqaramiz\n",
    "    return min(subroyxat)  # Subro‘yxatdagi eng kichik elementni qaytaramiz\n",
    "\n",
    "# Misol uchun ro‘yxat\n",
    "sonlar = [10, 25, 3, 99, 48, 50, 12]\n",
    "\n",
    "# Subro‘yxatdan eng kichik elementni topish (indekslar: 1 dan 5 gacha)\n",
    "natija = subroyxat_eng_kichik(sonlar, 1, 5)\n",
    "\n",
    "# Natijani chiqarish\n",
    "print(\"Subro‘yxatdagi eng kichik element:\", natija)"
   ]
  },
  {
   "cell_type": "code",
   "execution_count": 62,
   "metadata": {},
   "outputs": [
    {
     "name": "stdout",
     "output_type": "stream",
     "text": [
      "Yangilangan ro'yxat: [10, 25, 3, 48, 50, 12]\n"
     ]
    }
   ],
   "source": [
    "# Ro‘yxatdan indeks bo‘yicha elementni olib tashlovchi funksiya\n",
    "def indeks_boyicha_olib_tashlash(royxat, indeks):\n",
    "    if 0 <= indeks < len(royxat):  # Indeks ro‘yxat chegarasida ekanligini tekshiramiz\n",
    "        del royxat[indeks]  # Indeksdagi elementni olib tashlaymiz\n",
    "        return royxat  # Yangilangan ro‘yxatni qaytaramiz\n",
    "    else:\n",
    "        return \"Xatolik: Indeks ro'yxat chegarasidan tashqarida!\"  # Xato xabari\n",
    "\n",
    "# Misol uchun ro‘yxat\n",
    "sonlar = [10, 25, 3, 99, 48, 50, 12]\n",
    "\n",
    "# Indeks bo‘yicha elementni olib tashlash (masalan, 3-indeks)\n",
    "natija = indeks_boyicha_olib_tashlash(sonlar, 3)\n",
    "\n",
    "# Natijani chiqarish\n",
    "print(\"Yangilangan ro'yxat:\", natija)"
   ]
  },
  {
   "cell_type": "code",
   "execution_count": 63,
   "metadata": {},
   "outputs": [
    {
     "name": "stdout",
     "output_type": "stream",
     "text": [
      "royxat1 tartiblanganmi? True\n",
      "royxat2 tartiblanganmi? False\n"
     ]
    }
   ],
   "source": [
    "# Ro‘yxat tartiblanganligini tekshiruvchi funksiya\n",
    "def royxat_tartiblanganmi(royxat):\n",
    "    return royxat == sorted(royxat)  # Agar ro‘yxat tartiblangan bo‘lsa, True qaytaradi\n",
    "\n",
    "# Misol uchun ro‘yxatlar\n",
    "royxat1 = [1, 2, 3, 4, 5]  # Tartiblangan ro‘yxat\n",
    "royxat2 = [10, 5, 3, 8, 2]  # Tartiblanmagan ro‘yxat\n",
    "\n",
    "# Natijalarni chiqarish\n",
    "print(\"royxat1 tartiblanganmi?\", royxat_tartiblanganmi(royxat1))  # True\n",
    "print(\"royxat2 tartiblanganmi?\", royxat_tartiblanganmi(royxat2))  # False"
   ]
  },
  {
   "cell_type": "code",
   "execution_count": 64,
   "metadata": {},
   "outputs": [
    {
     "name": "stdout",
     "output_type": "stream",
     "text": [
      "Yangilangan ro‘yxat: [1, 1, 1, 2, 2, 2, 3, 3, 3]\n"
     ]
    }
   ],
   "source": [
    "# Ro‘yxat elementlarini ko‘paytiruvchi funksiya\n",
    "def elementlarni_takrorlash(royxat, takror_soni):\n",
    "    if takror_soni <= 0:\n",
    "        return \"Xatolik: Takrorlash soni musbat bo‘lishi kerak!\"  # Xato xabari\n",
    "    return [element for element in royxat for _ in range(takror_soni)]  # Har bir elementni takrorlaymiz\n",
    "\n",
    "# Misol uchun ro‘yxat\n",
    "sonlar = [1, 2, 3]\n",
    "\n",
    "# Har bir elementni 3 marta takrorlash\n",
    "natija = elementlarni_takrorlash(sonlar, 3)\n",
    "\n",
    "# Natijani chiqarish\n",
    "print(\"Yangilangan ro‘yxat:\", natija)"
   ]
  },
  {
   "cell_type": "code",
   "execution_count": 65,
   "metadata": {},
   "outputs": [
    {
     "name": "stdout",
     "output_type": "stream",
     "text": [
      "Birlashtirilgan va tartiblangan ro‘yxat: [1, 2, 3, 4, 5, 7, 8]\n"
     ]
    }
   ],
   "source": [
    "# Ikki ro‘yxatni birlashtirib, tartiblaydigan funksiya\n",
    "def birlashtir_va_tartibla(royxat1, royxat2):\n",
    "    yangi_royxat = royxat1 + royxat2  # Ro‘yxatlarni birlashtiramiz\n",
    "    return sorted(yangi_royxat)  # Yangi ro‘yxatni tartiblaymiz\n",
    "\n",
    "# Misol uchun ro‘yxatlar\n",
    "royxat1 = [5, 2, 8]\n",
    "royxat2 = [3, 7, 1, 4]\n",
    "\n",
    "# Ro‘yxatlarni birlashtirish va tartiblash\n",
    "natija = birlashtir_va_tartibla(royxat1, royxat2)\n",
    "\n",
    "# Natijani chiqarish\n",
    "print(\"Birlashtirilgan va tartiblangan ro‘yxat:\", natija)"
   ]
  },
  {
   "cell_type": "code",
   "execution_count": 66,
   "metadata": {},
   "outputs": [
    {
     "name": "stdout",
     "output_type": "stream",
     "text": [
      "7 elementi joylashgan indekslar: [1, 3, 5]\n"
     ]
    }
   ],
   "source": [
    "# Berilgan elementning barcha indekslarini topuvchi funksiya\n",
    "def barcha_indekslarni_top(royxat, element):\n",
    "    indekslar = [i for i, x in enumerate(royxat) if x == element]  # Element mos kelgan indekslarni topamiz\n",
    "    return indekslar if indekslar else \"Element ro‘yxatda yo‘q!\"  # Agar topilmasa, xabar chiqaramiz\n",
    "\n",
    "# Misol uchun ro‘yxat\n",
    "sonlar = [3, 7, 2, 7, 9, 7, 5]\n",
    "\n",
    "# Elementni qidirish\n",
    "element = 7\n",
    "natija = barcha_indekslarni_top(sonlar, element)\n",
    "\n",
    "# Natijani chiqarish\n",
    "print(f\"{element} elementi joylashgan indekslar:\", natija)"
   ]
  },
  {
   "cell_type": "code",
   "execution_count": 67,
   "metadata": {},
   "outputs": [
    {
     "name": "stdout",
     "output_type": "stream",
     "text": [
      "Aylantirilgan ro‘yxat: [4, 5, 1, 2, 3]\n"
     ]
    }
   ],
   "source": [
    "# Ro‘yxatni o‘ngga aylantiruvchi funksiya\n",
    "def royxatni_aylantirish(royxat, qadam):\n",
    "    if not royxat:  \n",
    "        return \"Xatolik: Ro‘yxat bo‘sh!\"  # Agar ro‘yxat bo‘sh bo‘lsa, xabar qaytaramiz\n",
    "    qadam = qadam % len(royxat)  # Ro‘yxat uzunligidan oshib ketmasligi uchun\n",
    "    return royxat[-qadam:] + royxat[:-qadam]  # Oxirgi elementlarni boshiga qo‘shamiz\n",
    "\n",
    "# Misol uchun ro‘yxat\n",
    "sonlar = [1, 2, 3, 4, 5]\n",
    "\n",
    "# Ro‘yxatni o‘ngga 2 qadamga aylantirish\n",
    "natija = royxatni_aylantirish(sonlar, 2)\n",
    "\n",
    "# Natijani chiqarish\n",
    "print(\"Aylantirilgan ro‘yxat:\", natija)"
   ]
  },
  {
   "cell_type": "code",
   "execution_count": 68,
   "metadata": {},
   "outputs": [
    {
     "name": "stdout",
     "output_type": "stream",
     "text": [
      "Yaratilgan ro‘yxat: [1, 2, 3, 4, 5, 6, 7, 8, 9, 10]\n"
     ]
    }
   ],
   "source": [
    "# Berilgan oraliqdagi sonlardan ro‘yxat yaratish funksiyasi\n",
    "def oraliq_royxat(boshlanish, tugash, qadam=1):\n",
    "    return list(range(boshlanish, tugash + 1, qadam))  # Ro‘yxat yaratamiz\n",
    "\n",
    "# Misol uchun oraliq\n",
    "natija = oraliq_royxat(1, 10)\n",
    "\n",
    "# Natijani chiqarish\n",
    "print(\"Yaratilgan ro‘yxat:\", natija)"
   ]
  },
  {
   "cell_type": "code",
   "execution_count": 69,
   "metadata": {},
   "outputs": [
    {
     "name": "stdout",
     "output_type": "stream",
     "text": [
      "Musbat sonlar yig‘indisi: 16\n"
     ]
    }
   ],
   "source": [
    "# Musbat sonlar yig‘indisini hisoblovchi funksiya\n",
    "def musbat_sonlar_yigindisi(royxat):\n",
    "    return sum(son for son in royxat if son > 0)  # Musbat sonlarni qo‘shamiz\n",
    "\n",
    "# Misol uchun ro‘yxat\n",
    "sonlar = [3, -7, 5, -2, 8, -1]\n",
    "\n",
    "# Musbat sonlar yig‘indisini hisoblash\n",
    "natija = musbat_sonlar_yigindisi(sonlar)\n",
    "\n",
    "# Natijani chiqarish\n",
    "print(\"Musbat sonlar yig‘indisi:\", natija)"
   ]
  },
  {
   "cell_type": "code",
   "execution_count": 70,
   "metadata": {},
   "outputs": [
    {
     "name": "stdout",
     "output_type": "stream",
     "text": [
      "Manfiy sonlar yig‘indisi: -10\n"
     ]
    }
   ],
   "source": [
    "# Manfiy sonlar yig‘indisini hisoblovchi funksiya\n",
    "def manfiy_sonlar_yigindisi(royxat):\n",
    "    return sum(son for son in royxat if son < 0)  # Faqat manfiy sonlarni qo‘shamiz\n",
    "\n",
    "# Misol uchun ro‘yxat\n",
    "sonlar = [3, -7, 5, -2, 8, -1]\n",
    "\n",
    "# Manfiy sonlar yig‘indisini hisoblash\n",
    "natija = manfiy_sonlar_yigindisi(sonlar)\n",
    "\n",
    "# Natijani chiqarish\n",
    "print(\"Manfiy sonlar yig‘indisi:\", natija)"
   ]
  },
  {
   "cell_type": "code",
   "execution_count": 71,
   "metadata": {},
   "outputs": [
    {
     "name": "stdout",
     "output_type": "stream",
     "text": [
      "royxat1 palindrommi? True\n",
      "royxat2 palindrommi? False\n"
     ]
    }
   ],
   "source": [
    "# Ro‘yxat palindrom ekanligini tekshiruvchi funksiya\n",
    "def palindromni_tekshir(royxat):\n",
    "    return royxat == royxat[::-1]  # Ro‘yxatni teskari qilib solishtiramiz\n",
    "\n",
    "# Misol uchun ro‘yxatlar\n",
    "royxat1 = [1, 2, 3, 2, 1]  # Palindrom\n",
    "royxat2 = [1, 2, 3, 4, 5]  # Palindrom emas\n",
    "\n",
    "# Natijalarni chiqarish\n",
    "print(\"royxat1 palindrommi?\", palindromni_tekshir(royxat1))  # True\n",
    "print(\"royxat2 palindrommi?\", palindromni_tekshir(royxat2))  # False"
   ]
  },
  {
   "cell_type": "code",
   "execution_count": 72,
   "metadata": {},
   "outputs": [
    {
     "name": "stdout",
     "output_type": "stream",
     "text": [
      "Yangi ro‘yxat: [[1, 2, 3], [4, 5, 6], [7, 8, 9]]\n"
     ]
    }
   ],
   "source": [
    "# Berilgan ro‘yxatdan subro‘yxatlar yaratish funksiyasi\n",
    "def ichki_royxat_yaratish(royxat, uzunlik):\n",
    "    return [royxat[i:i + uzunlik] for i in range(0, len(royxat), uzunlik)]\n",
    "\n",
    "# Misol uchun ro‘yxat\n",
    "sonlar = [1, 2, 3, 4, 5, 6, 7, 8, 9]\n",
    "\n",
    "# Har 3 ta elementdan iborat subro‘yxatlar yaratish\n",
    "natija = ichki_royxat_yaratish(sonlar, 3)\n",
    "\n",
    "# Natijani chiqarish\n",
    "print(\"Yangi ro‘yxat:\", natija)"
   ]
  },
  {
   "cell_type": "code",
   "execution_count": 74,
   "metadata": {},
   "outputs": [
    {
     "name": "stdout",
     "output_type": "stream",
     "text": [
      "Takrorlanmagan elementlar: [1, 2, 3, 4, 5, 6]\n"
     ]
    }
   ],
   "source": [
    "# Ro‘yxatdan takrorlanmagan elementlarni chiqarish funksiyasi\n",
    "def unikal_elementlar(royxat):\n",
    "    yangi_royxat = []\n",
    "    for element in royxat:\n",
    "        if element not in yangi_royxat:  # Agar oldin qo‘shilmagan bo‘lsa, qo‘shamiz\n",
    "            yangi_royxat.append(element)\n",
    "    return yangi_royxat\n",
    "\n",
    "# Misol uchun ro‘yxat\n",
    "sonlar = [1, 2, 3, 2, 4, 1, 5, 3, 6]\n",
    "\n",
    "# Unikal elementlarni chiqarish\n",
    "natija = unikal_elementlar(sonlar)\n",
    "\n",
    "# Natijani chiqarish\n",
    "print(\"Takrorlanmagan elementlar:\", natija)\n"
   ]
  },
  {
   "cell_type": "code",
   "execution_count": null,
   "metadata": {},
   "outputs": [],
   "source": []
  }
 ],
 "metadata": {
  "kernelspec": {
   "display_name": "Python 3",
   "language": "python",
   "name": "python3"
  },
  "language_info": {
   "codemirror_mode": {
    "name": "ipython",
    "version": 3
   },
   "file_extension": ".py",
   "mimetype": "text/x-python",
   "name": "python",
   "nbconvert_exporter": "python",
   "pygments_lexer": "ipython3",
   "version": "3.10.10"
  }
 },
 "nbformat": 4,
 "nbformat_minor": 2
}
