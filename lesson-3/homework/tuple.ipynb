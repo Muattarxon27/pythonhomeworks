{
 "cells": [
  {
   "cell_type": "code",
   "execution_count": 1,
   "metadata": {},
   "outputs": [
    {
     "name": "stdout",
     "output_type": "stream",
     "text": [
      "To‘plamlarning birlashmasi: {1, 2, 3, 4, 5, 6}\n"
     ]
    }
   ],
   "source": [
    "# Ikki to‘plamning birlashmasini hisoblovchi funksiya\n",
    "def toplam_birlashma(toplam1, toplam2):\n",
    "    return toplam1 | toplam2  # '|' operatori to‘plam birlashmasini hosil qiladi\n",
    "\n",
    "# Misol uchun to‘plamlar\n",
    "toplam_a = {1, 2, 3, 4}\n",
    "toplam_b = {3, 4, 5, 6}\n",
    "\n",
    "# Birlashma hosil qilish\n",
    "natija = toplam_birlashma(toplam_a, toplam_b)\n",
    "\n",
    "# Natijani chiqarish\n",
    "print(\"To‘plamlarning birlashmasi:\", natija)"
   ]
  },
  {
   "cell_type": "code",
   "execution_count": 2,
   "metadata": {},
   "outputs": [
    {
     "name": "stdout",
     "output_type": "stream",
     "text": [
      "To‘plamlarning kesishmasi: {3, 4}\n"
     ]
    }
   ],
   "source": [
    "# Ikki to‘plamning kesishmasini hisoblovchi funksiya\n",
    "def toplam_kesishma(toplam1, toplam2):\n",
    "    return toplam1 & toplam2  # '&' operatori to‘plam kesishmasini hosil qiladi\n",
    "\n",
    "# Misol uchun to‘plamlar\n",
    "toplam_a = {1, 2, 3, 4}\n",
    "toplam_b = {3, 4, 5, 6}\n",
    "\n",
    "# Kesishma hosil qilish\n",
    "natija = toplam_kesishma(toplam_a, toplam_b)\n",
    "\n",
    "# Natijani chiqarish\n",
    "print(\"To‘plamlarning kesishmasi:\", natija)"
   ]
  },
  {
   "cell_type": "code",
   "execution_count": 3,
   "metadata": {},
   "outputs": [
    {
     "name": "stdout",
     "output_type": "stream",
     "text": [
      "To‘plamlarning farqi (A - B): {1, 2, 5}\n"
     ]
    }
   ],
   "source": [
    "# Ikki to‘plamning farqini hisoblovchi funksiya\n",
    "def toplam_farqi(toplam1, toplam2):\n",
    "    return toplam1 - toplam2  # '-' operatori farqni hosil qiladi\n",
    "\n",
    "# Misol uchun to‘plamlar\n",
    "toplam_a = {1, 2, 3, 4, 5}\n",
    "toplam_b = {3, 4, 6, 7}\n",
    "\n",
    "# Farq hosil qilish\n",
    "natija = toplam_farqi(toplam_a, toplam_b)\n",
    "\n",
    "# Natijani chiqarish\n",
    "print(\"To‘plamlarning farqi (A - B):\", natija)"
   ]
  },
  {
   "cell_type": "code",
   "execution_count": 4,
   "metadata": {},
   "outputs": [
    {
     "name": "stdout",
     "output_type": "stream",
     "text": [
      "A to‘plami B ning quyi to‘plami: True\n"
     ]
    }
   ],
   "source": [
    "# To‘plamning quyi to‘plam ekanligini tekshiruvchi funksiya\n",
    "def toplam_quyi(toplam1, toplam2):\n",
    "    return toplam1.issubset(toplam2)  # .issubset() metodi quyi to‘plamni tekshiradi\n",
    "\n",
    "# Misol uchun to‘plamlar\n",
    "toplam_a = {1, 2, 3}\n",
    "toplam_b = {1, 2, 3, 4, 5}\n",
    "\n",
    "# Tekshirish\n",
    "natija = toplam_quyi(toplam_a, toplam_b)\n",
    "\n",
    "# Natijani chiqarish\n",
    "print(\"A to‘plami B ning quyi to‘plami:\", natija)"
   ]
  },
  {
   "cell_type": "code",
   "execution_count": 5,
   "metadata": {},
   "outputs": [
    {
     "name": "stdout",
     "output_type": "stream",
     "text": [
      "3 to‘plam ichida bormi? True\n"
     ]
    }
   ],
   "source": [
    "# Elementning to‘plam ichida borligini tekshiruvchi funksiya\n",
    "def elementni_tekshir(toplam, element):\n",
    "    return element in toplam  # 'in' operatori element mavjudligini tekshiradi\n",
    "\n",
    "# Misol uchun to‘plam\n",
    "toplam = {1, 2, 3, 4, 5}\n",
    "\n",
    "# Tekshirilayotgan element\n",
    "element = 3\n",
    "\n",
    "# Tekshirish\n",
    "natija = elementni_tekshir(toplam, element)\n",
    "\n",
    "# Natijani chiqarish\n",
    "print(f\"{element} to‘plam ichida bormi? {natija}\")"
   ]
  },
  {
   "cell_type": "code",
   "execution_count": 6,
   "metadata": {},
   "outputs": [
    {
     "name": "stdout",
     "output_type": "stream",
     "text": [
      "To‘plamdagi unikal elementlar soni: 5\n"
     ]
    }
   ],
   "source": [
    "# To‘plam uzunligini (elementlar sonini) aniqlovchi funksiya\n",
    "def toplam_uzunligi(toplam):\n",
    "    return len(toplam)  # len() funksiyasi to‘plam elementlari sonini qaytaradi\n",
    "\n",
    "# Misol uchun to‘plam\n",
    "toplam = {1, 2, 3, 4, 5}\n",
    "\n",
    "# Uzunlikni aniqlash\n",
    "natija = toplam_uzunligi(toplam)\n",
    "\n",
    "# Natijani chiqarish\n",
    "print(\"To‘plamdagi unikal elementlar soni:\", natija)"
   ]
  },
  {
   "cell_type": "code",
   "execution_count": 7,
   "metadata": {},
   "outputs": [
    {
     "name": "stdout",
     "output_type": "stream",
     "text": [
      "Ro‘yxatning unikal elementlardan iborat to‘plami: {1, 2, 3, 4, 5}\n"
     ]
    }
   ],
   "source": [
    "# Ro‘yxatni to‘plamga o‘girish funksiyasi\n",
    "def royxatni_toplamga_aylantir(royxat):\n",
    "    return set(royxat)  # set() funksiyasi takrorlanmalarni olib tashlaydi\n",
    "\n",
    "# Misol uchun ro‘yxat\n",
    "royxat = [1, 2, 3, 4, 5, 2, 3, 1]\n",
    "\n",
    "# To‘plamga aylantirish\n",
    "natija = royxatni_toplamga_aylantir(royxat)\n",
    "\n",
    "# Natijani chiqarish\n",
    "print(\"Ro‘yxatning unikal elementlardan iborat to‘plami:\", natija)"
   ]
  },
  {
   "cell_type": "code",
   "execution_count": 8,
   "metadata": {},
   "outputs": [
    {
     "name": "stdout",
     "output_type": "stream",
     "text": [
      "Yangilangan to‘plam: {1, 2, 4, 5}\n"
     ]
    }
   ],
   "source": [
    "# To‘plamdan elementni o‘chiruvchi funksiya\n",
    "def elementni_ochir(toplam, element):\n",
    "    toplam.discard(element)  # discard() elementi o‘chiradi, agar u mavjud bo‘lsa\n",
    "    return toplam  # Yangilangan to‘plamni qaytaradi\n",
    "\n",
    "# Misol uchun to‘plam\n",
    "toplam = {1, 2, 3, 4, 5}\n",
    "\n",
    "# O‘chiriladigan element\n",
    "element = 3\n",
    "\n",
    "# Elementni o‘chirish\n",
    "natija = elementni_ochir(toplam, element)\n",
    "\n",
    "# Natijani chiqarish\n",
    "print(\"Yangilangan to‘plam:\", natija)"
   ]
  },
  {
   "cell_type": "code",
   "execution_count": 9,
   "metadata": {},
   "outputs": [
    {
     "name": "stdout",
     "output_type": "stream",
     "text": [
      "Bo‘shatilgan to‘plam: set()\n"
     ]
    }
   ],
   "source": [
    "# To‘plamni bo‘shatish funksiyasi\n",
    "def toplamni_boshat(toplam):\n",
    "    toplam.clear()  # clear() metodi to‘plamni tozalaydi\n",
    "    return toplam  # Bo‘sh to‘plamni qaytaradi\n",
    "\n",
    "# Misol uchun to‘plam\n",
    "toplam = {1, 2, 3, 4, 5}\n",
    "\n",
    "# To‘plamni bo‘shatish\n",
    "natija = toplamni_boshat(toplam)\n",
    "\n",
    "# Natijani chiqarish\n",
    "print(\"Bo‘shatilgan to‘plam:\", natija)"
   ]
  },
  {
   "cell_type": "code",
   "execution_count": 10,
   "metadata": {},
   "outputs": [
    {
     "name": "stdout",
     "output_type": "stream",
     "text": [
      "To‘plam1 bo‘shmi? False\n",
      "To‘plam2 bo‘shmi? True\n"
     ]
    }
   ],
   "source": [
    "# To‘plam bo‘shligini tekshiruvchi funksiya\n",
    "def toplam_boshmi(toplam):\n",
    "    return len(toplam) == 0  # Agar uzunlik 0 bo‘lsa, True qaytaradi\n",
    "\n",
    "# Misol uchun to‘plamlar\n",
    "toplam1 = {1, 2, 3}\n",
    "toplam2 = set()  # Bo‘sh to‘plam\n",
    "\n",
    "# Tekshirish\n",
    "print(\"To‘plam1 bo‘shmi?\", toplam_boshmi(toplam1))  # False\n",
    "print(\"To‘plam2 bo‘shmi?\", toplam_boshmi(toplam2))  # True"
   ]
  },
  {
   "cell_type": "code",
   "execution_count": 11,
   "metadata": {},
   "outputs": [
    {
     "name": "stdout",
     "output_type": "stream",
     "text": [
      "Simmetrik farq: {1, 2, 3, 6, 7, 8}\n"
     ]
    }
   ],
   "source": [
    "# Simmetrik farqni topuvchi funksiya\n",
    "def simmetrik_farq(toplam1, toplam2):\n",
    "    return toplam1 ^ toplam2  # ^ operatori simmetrik farqni hisoblaydi\n",
    "\n",
    "# Misol uchun ikkita to‘plam\n",
    "toplam1 = {1, 2, 3, 4, 5}\n",
    "toplam2 = {4, 5, 6, 7, 8}\n",
    "\n",
    "# Simmetrik farqni topish\n",
    "natija = simmetrik_farq(toplam1, toplam2)\n",
    "\n",
    "# Natijani chiqarish\n",
    "print(\"Simmetrik farq:\", natija)"
   ]
  },
  {
   "cell_type": "code",
   "execution_count": 12,
   "metadata": {},
   "outputs": [
    {
     "name": "stdout",
     "output_type": "stream",
     "text": [
      "Yangilangan to‘plam: {1, 2, 3, 4, 5, 6}\n"
     ]
    }
   ],
   "source": [
    "# To‘plamga element qo‘shuvchi funksiya\n",
    "def element_qosh(toplam, element):\n",
    "    toplam.add(element)  # add() metodi elementni qo‘shadi\n",
    "    return toplam  # Yangilangan to‘plamni qaytaradi\n",
    "\n",
    "# Misol uchun to‘plam\n",
    "toplam = {1, 2, 3, 4, 5}\n",
    "\n",
    "# Qo‘shiladigan element\n",
    "element = 6\n",
    "\n",
    "# Elementni qo‘shish\n",
    "natija = element_qosh(toplam, element)\n",
    "\n",
    "# Natijani chiqarish\n",
    "print(\"Yangilangan to‘plam:\", natija)"
   ]
  },
  {
   "cell_type": "code",
   "execution_count": 13,
   "metadata": {},
   "outputs": [
    {
     "name": "stdout",
     "output_type": "stream",
     "text": [
      "Olingan element: 1\n",
      "Yangilangan to‘plam: {2, 3, 4, 5}\n"
     ]
    }
   ],
   "source": [
    "# To‘plamdan element olib tashlovchi funksiya\n",
    "def element_ol(toplam):\n",
    "    if toplam:  # Agar to‘plam bo‘sh bo‘lmasa\n",
    "        return toplam.pop()  # pop() metodi tasodifiy elementni olib tashlaydi va qaytaradi\n",
    "    else:\n",
    "        return None  # Agar to‘plam bo‘sh bo‘lsa, None qaytaradi\n",
    "\n",
    "# Misol uchun to‘plam\n",
    "toplam = {1, 2, 3, 4, 5}\n",
    "\n",
    "# Tasodifiy elementni olib tashlash\n",
    "olingan_element = element_ol(toplam)\n",
    "\n",
    "# Natijalarni chiqarish\n",
    "print(\"Olingan element:\", olingan_element)\n",
    "print(\"Yangilangan to‘plam:\", toplam)"
   ]
  },
  {
   "cell_type": "code",
   "execution_count": 14,
   "metadata": {},
   "outputs": [
    {
     "name": "stdout",
     "output_type": "stream",
     "text": [
      "Eng katta element: 9\n"
     ]
    }
   ],
   "source": [
    "# To‘plamdagi eng katta elementni topuvchi funksiya\n",
    "def eng_katta_element(toplam):\n",
    "    if toplam:  # Agar to‘plam bo‘sh bo‘lmasa\n",
    "        return max(toplam)  # max() eng katta elementni qaytaradi\n",
    "    else:\n",
    "        return None  # Agar to‘plam bo‘sh bo‘lsa, None qaytaradi\n",
    "\n",
    "# Misol uchun to‘plam\n",
    "toplam = {3, 7, 2, 9, 5}\n",
    "\n",
    "# Eng katta elementni topish\n",
    "natija = eng_katta_element(toplam)\n",
    "\n",
    "# Natijani chiqarish\n",
    "print(\"Eng katta element:\", natija)"
   ]
  },
  {
   "cell_type": "code",
   "execution_count": 15,
   "metadata": {},
   "outputs": [
    {
     "name": "stdout",
     "output_type": "stream",
     "text": [
      "Eng kichik element: 2\n"
     ]
    }
   ],
   "source": [
    "# To‘plamdagi eng kichik elementni topuvchi funksiya\n",
    "def eng_kichik_element(toplam):\n",
    "    if toplam:  # Agar to‘plam bo‘sh bo‘lmasa\n",
    "        return min(toplam)  # min() eng kichik elementni qaytaradi\n",
    "    else:\n",
    "        return None  # Agar to‘plam bo‘sh bo‘lsa, None qaytaradi\n",
    "\n",
    "# Misol uchun to‘plam\n",
    "toplam = {3, 7, 2, 9, 5}\n",
    "\n",
    "# Eng kichik elementni topish\n",
    "natija = eng_kichik_element(toplam)\n",
    "\n",
    "# Natijani chiqarish\n",
    "print(\"Eng kichik element:\", natija)"
   ]
  },
  {
   "cell_type": "code",
   "execution_count": 16,
   "metadata": {},
   "outputs": [
    {
     "name": "stdout",
     "output_type": "stream",
     "text": [
      "Juft sonlar to‘plami: {8, 2, 4, 6}\n"
     ]
    }
   ],
   "source": [
    "# To‘plamdan faqat juft sonlarni ajratib oluvchi funksiya\n",
    "def faqat_juft_sonlar(toplam):\n",
    "    return {x for x in toplam if x % 2 == 0}  # Juft sonlarni tanlaymiz\n",
    "\n",
    "# Misol uchun to‘plam\n",
    "toplam = {3, 7, 2, 9, 4, 6, 8, 5}\n",
    "\n",
    "# Yangi to‘plamni yaratish\n",
    "juft_sonlar_toplami = faqat_juft_sonlar(toplam)\n",
    "\n",
    "# Natijani chiqarish\n",
    "print(\"Juft sonlar to‘plami:\", juft_sonlar_toplami)"
   ]
  },
  {
   "cell_type": "code",
   "execution_count": 17,
   "metadata": {},
   "outputs": [
    {
     "name": "stdout",
     "output_type": "stream",
     "text": [
      "Toq sonlar to‘plami: {9, 3, 5, 7}\n"
     ]
    }
   ],
   "source": [
    "# To‘plamdan faqat toq sonlarni ajratib oluvchi funksiya\n",
    "def faqat_toq_sonlar(toplam):\n",
    "    return {x for x in toplam if x % 2 != 0}  # Toq sonlarni tanlaymiz\n",
    "\n",
    "# Misol uchun to‘plam\n",
    "toplam = {3, 7, 2, 9, 4, 6, 8, 5}\n",
    "\n",
    "# Yangi to‘plamni yaratish\n",
    "toq_sonlar_toplami = faqat_toq_sonlar(toplam)\n",
    "\n",
    "# Natijani chiqarish\n",
    "print(\"Toq sonlar to‘plami:\", toq_sonlar_toplami)"
   ]
  },
  {
   "cell_type": "code",
   "execution_count": 18,
   "metadata": {},
   "outputs": [
    {
     "name": "stdout",
     "output_type": "stream",
     "text": [
      "Diapazon bo‘yicha to‘plam: {1, 2, 3, 4, 5, 6, 7, 8, 9, 10}\n"
     ]
    }
   ],
   "source": [
    "# Berilgan diapazondagi sonlar to‘plamini yaratish funksiyasi\n",
    "def diapazon_toplami(boshlanish, tugash):\n",
    "    return set(range(boshlanish, tugash + 1))  # To‘plam yaratish\n",
    "\n",
    "# Misol uchun diapazon\n",
    "boshlanish = 1\n",
    "tugash = 10\n",
    "\n",
    "# Yangi to‘plamni yaratish\n",
    "sonlar_toplami = diapazon_toplami(boshlanish, tugash)\n",
    "\n",
    "# Natijani chiqarish\n",
    "print(\"Diapazon bo‘yicha to‘plam:\", sonlar_toplami)"
   ]
  },
  {
   "cell_type": "code",
   "execution_count": 19,
   "metadata": {},
   "outputs": [
    {
     "name": "stdout",
     "output_type": "stream",
     "text": [
      "Takrorlarsiz yangi to‘plam: {1, 2, 3, 4, 5, 6, 7, 8, 9}\n"
     ]
    }
   ],
   "source": [
    "# Ikkita ro‘yxatni birlashtirib, takrorlarni olib tashlaydigan funksiya\n",
    "def birlashtir_va_yakuniy_toplam(royxat1, royxat2):\n",
    "    return set(royxat1) | set(royxat2)  # To‘plamlar birlashuvi (union)\n",
    "\n",
    "# Misol uchun ikkita ro‘yxat\n",
    "royxat1 = [1, 2, 3, 4, 5, 5, 6]\n",
    "royxat2 = [4, 5, 6, 7, 8, 9, 9]\n",
    "\n",
    "# Yangi to‘plamni yaratish\n",
    "yakuniy_toplam = birlashtir_va_yakuniy_toplam(royxat1, royxat2)\n",
    "\n",
    "# Natijani chiqarish\n",
    "print(\"Takrorlarsiz yangi to‘plam:\", yakuniy_toplam)"
   ]
  },
  {
   "cell_type": "code",
   "execution_count": 22,
   "metadata": {},
   "outputs": [
    {
     "name": "stdout",
     "output_type": "stream",
     "text": [
      "Toplamlar kesishmaydi: True\n"
     ]
    }
   ],
   "source": [
    "# Ikki to‘plamning disjoint (kesishmaydigan) ekanligini tekshiradigan funksiya\n",
    "def disjoint_tekshir(set1, set2):\n",
    "    return set1.isdisjoint(set2)  # Agar umumiy element bo‘lmasa, True qaytaradi\n",
    "\n",
    "# Misol uchun ikki to‘plam\n",
    "toplam1 = {1, 2, 3, 4}\n",
    "toplam2 = {5, 6, 7, 8}\n",
    "\n",
    "# Tekshirish\n",
    "natija = disjoint_tekshir(toplam1, toplam2)\n",
    "\n",
    "# Natijani chiqarish\n",
    "print(\"Toplamlar kesishmaydi:\", natija)"
   ]
  },
  {
   "cell_type": "code",
   "execution_count": 23,
   "metadata": {},
   "outputs": [
    {
     "name": "stdout",
     "output_type": "stream",
     "text": [
      "Takrorlarsiz ro‘yxat: [1, 2, 3, 4, 5, 6, 7]\n"
     ]
    }
   ],
   "source": [
    "# Ro‘yxatdan takroriy elementlarni olib tashlaydigan funksiya\n",
    "def takrorlarni_olib_tashla(royxat):\n",
    "    return list(set(royxat))  # To‘plam orqali unikal elementlarni saqlab, qayta ro‘yxatga aylantiramiz\n",
    "\n",
    "# Misol uchun ro‘yxat\n",
    "royxat = [1, 2, 2, 3, 4, 4, 5, 6, 6, 7]\n",
    "\n",
    "# Yangi ro‘yxatni yaratish\n",
    "yangi_royxat = takrorlarni_olib_tashla(royxat)\n",
    "\n",
    "# Natijani chiqarish\n",
    "print(\"Takrorlarsiz ro‘yxat:\", yangi_royxat)"
   ]
  },
  {
   "cell_type": "code",
   "execution_count": 24,
   "metadata": {},
   "outputs": [
    {
     "name": "stdout",
     "output_type": "stream",
     "text": [
      "[4, 2, 3, 1]\n"
     ]
    }
   ],
   "source": [
    "def takrorlarni_olib_tashla_tartib(royxat):\n",
    "    return list(dict.fromkeys(royxat))\n",
    "\n",
    "# Misol\n",
    "royxat = [4, 2, 4, 3, 1, 2]\n",
    "print(takrorlarni_olib_tashla_tartib(royxat))  # Natija: [4, 2, 3, 1]"
   ]
  },
  {
   "cell_type": "code",
   "execution_count": 25,
   "metadata": {},
   "outputs": [
    {
     "name": "stdout",
     "output_type": "stream",
     "text": [
      "Unikal elementlar soni: 7\n"
     ]
    }
   ],
   "source": [
    "# Ro‘yxatda nechta unikal element borligini hisoblaydigan funksiya\n",
    "def unikal_elementlar_soni(royxat):\n",
    "    return len(set(royxat))  # To‘plam faqat unikal elementlarni saqlaydi, len() esa sonini qaytaradi\n",
    "\n",
    "# Misol uchun ro‘yxat\n",
    "royxat = [1, 2, 2, 3, 4, 4, 5, 6, 6, 7]\n",
    "\n",
    "# Unikal elementlar sonini topish\n",
    "soni = unikal_elementlar_soni(royxat)\n",
    "\n",
    "# Natijani chiqarish\n",
    "print(\"Unikal elementlar soni:\", soni)"
   ]
  },
  {
   "cell_type": "code",
   "execution_count": 27,
   "metadata": {},
   "outputs": [
    {
     "name": "stdout",
     "output_type": "stream",
     "text": [
      "Tasodifiy toplam: {3, 6, 9, 11, 19}\n"
     ]
    }
   ],
   "source": [
    "import random  # Tasodifiy sonlar yaratish uchun kutubxona\n",
    "\n",
    "# Tasodifiy to‘plam yaratish funksiyasi\n",
    "def tasodifiy_toplam_yarat(soni, boshi, oxir):\n",
    "    return set(random.randint(boshi, oxir) for _ in range(soni))\n",
    "\n",
    "# Misol uchun tasodifiy to‘plam yaratamiz\n",
    "tasodifiy_toplam = tasodifiy_toplam_yarat(5, 1, 20)  # 1 dan 20 gacha bo‘lgan 5 ta son\n",
    "\n",
    "# Natijani chiqarish\n",
    "print(\"Tasodifiy toplam:\", tasodifiy_toplam)"
   ]
  },
  {
   "cell_type": "code",
   "execution_count": null,
   "metadata": {},
   "outputs": [],
   "source": []
  }
 ],
 "metadata": {
  "kernelspec": {
   "display_name": "Python 3",
   "language": "python",
   "name": "python3"
  },
  "language_info": {
   "codemirror_mode": {
    "name": "ipython",
    "version": 3
   },
   "file_extension": ".py",
   "mimetype": "text/x-python",
   "name": "python",
   "nbconvert_exporter": "python",
   "pygments_lexer": "ipython3",
   "version": "3.10.10"
  }
 },
 "nbformat": 4,
 "nbformat_minor": 2
}
