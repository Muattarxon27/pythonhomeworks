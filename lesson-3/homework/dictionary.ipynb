{
 "cells": [
  {
   "cell_type": "code",
   "execution_count": 5,
   "metadata": {},
   "outputs": [
    {
     "name": "stdout",
     "output_type": "stream",
     "text": [
      "Ism: Muattarxon\n",
      "Kurs: 1\n"
     ]
    }
   ],
   "source": [
    "# Lug‘atdan qiymat olish funksiyasi\n",
    "def qiymat_ol(lugat, kalit, standart=None):\n",
    "    return lugat.get(kalit, standart)\n",
    "\n",
    "# Misol lug‘at\n",
    "talaba = {\n",
    "    \"ism\": \"Muattarxon\",\n",
    "    \"yosh\": 17,\n",
    "    \"universitet\": \"fardu universiteti\"\n",
    "}\n",
    "\n",
    "# Lug‘atdan mavjud kalitni olish\n",
    "print(\"Ism:\", qiymat_ol(talaba, \"ism\"))  # \"Muattarxon\"\n",
    "\n",
    "# Lug‘atda mavjud bo‘lmagan kalitni olish\n",
    "print(\"Kurs:\", qiymat_ol(talaba, \"kurs\", \"1\"))  # \"1\""
   ]
  },
  {
   "cell_type": "code",
   "execution_count": 13,
   "metadata": {},
   "outputs": [
    {
     "name": "stdout",
     "output_type": "stream",
     "text": [
      "Kalit 'ism' mavjudmi? True\n",
      "Kalit 'kurs' mavjudmi? True\n"
     ]
    }
   ],
   "source": [
    "# Lug‘atda kalit bor-yo‘qligini tekshiruvchi funksiya\n",
    "def kalit_tekshir(lugat, kalit):\n",
    "    return kalit in lugat\n",
    "\n",
    "# Misol lug‘at\n",
    "talaba = {\n",
    "    \"ism\": \"Muattarxon\",\n",
    "    \"yosh\": 17,\n",
    "    \"universitet\": \"fardu universiteti\",\n",
    "    \"kurs\": 1\n",
    " }\n",
    "\n",
    "# Kalit mavjudligini tekshirish\n",
    "print(\"Kalit 'ism' mavjudmi?\", kalit_tekshir(talaba, \"ism\"))  # True\n",
    "print(\"Kalit 'kurs' mavjudmi?\", kalit_tekshir(talaba, \"kurs\"))  # False"
   ]
  },
  {
   "cell_type": "code",
   "execution_count": 14,
   "metadata": {},
   "outputs": [
    {
     "name": "stdout",
     "output_type": "stream",
     "text": [
      "Lug‘atdagi kalitlar soni: 3\n"
     ]
    }
   ],
   "source": [
    "# Lug‘atdagi kalitlar sonini hisoblovchi funksiya\n",
    "def kalitlar_soni(lugat):\n",
    "    return len(lugat)\n",
    "\n",
    "# Misol lug‘at\n",
    "talaba = {\n",
    "    \"ism\": \"Muattarxon\",\n",
    "    \"yosh\": 17,\n",
    "    \"universitet\": \"fardu universiteti\"\n",
    "}\n",
    "\n",
    "# Natija\n",
    "print(\"Lug‘atdagi kalitlar soni:\", kalitlar_soni(talaba))  # 3\n"
   ]
  },
  {
   "cell_type": "code",
   "execution_count": 15,
   "metadata": {},
   "outputs": [
    {
     "name": "stdout",
     "output_type": "stream",
     "text": [
      "Lug‘atdagi kalitlar: ['ism', 'yosh', 'universitet']\n"
     ]
    }
   ],
   "source": [
    "# Lug‘atdagi barcha kalitlarni ro‘yxat sifatida qaytaruvchi funksiya\n",
    "def barcha_kalitlar(lugat):\n",
    "    return list(lugat.keys())\n",
    "\n",
    "# Misol lug‘at\n",
    "talaba = {\n",
    "    \"ism\": \"Muattarxon\",\n",
    "    \"yosh\": 17,\n",
    "    \"universitet\": \"Biladi universiteti\"\n",
    "}\n",
    "\n",
    "# Natija\n",
    "print(\"Lug‘atdagi kalitlar:\", barcha_kalitlar(talaba))  \n",
    "# ['ism', 'yosh', 'universitet']"
   ]
  },
  {
   "cell_type": "code",
   "execution_count": 16,
   "metadata": {},
   "outputs": [
    {
     "name": "stdout",
     "output_type": "stream",
     "text": [
      "Lug‘atdagi qiymatlar: ['Muattarxon', 17, 'fardu universiteti']\n"
     ]
    }
   ],
   "source": [
    "# Lug‘atdagi barcha qiymatlarni ro‘yxat sifatida qaytaruvchi funksiya\n",
    "def barcha_qiymatlar(lugat):\n",
    "    return list(lugat.values())\n",
    "\n",
    "# Misol lug‘at\n",
    "talaba = {\n",
    "    \"ism\": \"Muattarxon\",\n",
    "    \"yosh\": 17,\n",
    "    \"universitet\": \"fardu universiteti\"\n",
    "}\n",
    "\n",
    "# Natija\n",
    "print(\"Lug‘atdagi qiymatlar:\", barcha_qiymatlar(talaba))  \n",
    "# ['Muattarxon', 17, 'Biladi universiteti']"
   ]
  },
  {
   "cell_type": "code",
   "execution_count": 17,
   "metadata": {},
   "outputs": [
    {
     "name": "stdout",
     "output_type": "stream",
     "text": [
      "Birlashtirilgan lug‘at: {'ism': 'Muattarxon', 'yosh': 17, 'universitet': 'Biladi universiteti', 'kurs': 1}\n"
     ]
    }
   ],
   "source": [
    "# Ikki lug‘atni birlashtirib, yangi lug‘at qaytaruvchi funksiya\n",
    "def birlashtir_lugatlar(lugat1, lugat2):\n",
    "    yangi_lugat = {**lugat1, **lugat2}\n",
    "    return yangi_lugat\n",
    "\n",
    "# Misol lug‘atlar\n",
    "lugat1 = {\"ism\": \"Muattarxon\", \"yosh\": 17}\n",
    "lugat2 = {\"universitet\": \"Biladi universiteti\", \"kurs\": 1}\n",
    "\n",
    "# Natija\n",
    "birlashtirilgan = birlashtir_lugatlar(lugat1, lugat2)\n",
    "print(\"Birlashtirilgan lug‘at:\", birlashtirilgan)  \n",
    "\n",
    "# {'ism': 'Muattarxon', 'yosh': 17, 'universitet': 'Biladi universiteti', 'kurs': 1}"
   ]
  },
  {
   "cell_type": "code",
   "execution_count": 18,
   "metadata": {},
   "outputs": [
    {
     "name": "stdout",
     "output_type": "stream",
     "text": [
      "'yosh' kaliti o‘chirildi.\n",
      "Yangilangan lug‘at: {'ism': 'Muattarxon', 'universitet': 'Biladi universiteti'}\n"
     ]
    }
   ],
   "source": [
    "# Lug‘atdan berilgan kalitni o‘chiruvchi funksiya\n",
    "def ochir_lugat_kaliti(lugat, kalit):\n",
    "    if kalit in lugat:\n",
    "        del lugat[kalit]\n",
    "        print(f\"'{kalit}' kaliti o‘chirildi.\")\n",
    "    else:\n",
    "        print(f\"'{kalit}' kaliti lug‘atda yo‘q.\")\n",
    "    return lugat\n",
    "\n",
    "# Misol lug‘at\n",
    "lugat = {\"ism\": \"Muattarxon\", \"yosh\": 17, \"universitet\": \"Biladi universiteti\"}\n",
    "\n",
    "# Kalitni o‘chirish\n",
    "yangilangan_lugat = ochir_lugat_kaliti(lugat, \"yosh\")\n",
    "print(\"Yangilangan lug‘at:\", yangilangan_lugat)\n",
    "\n",
    "# Natija:\n",
    "# 'yosh' kaliti o‘chirildi.\n",
    "# Yangilangan lug‘at: {'ism': 'Muattarxon', 'universitet': 'Biladi universiteti'}"
   ]
  },
  {
   "cell_type": "code",
   "execution_count": 19,
   "metadata": {},
   "outputs": [
    {
     "name": "stdout",
     "output_type": "stream",
     "text": [
      "Tozalangan lug‘at: {}\n"
     ]
    }
   ],
   "source": [
    "# Lug‘atni tozalash funksiyasi\n",
    "def tozalash_lugat():\n",
    "    return {}\n",
    "\n",
    "# Misol lug‘at\n",
    "lugat = {\"ism\": \"Muattarxon\", \"yosh\": 17, \"universitet\": \"Biladi universiteti\"}\n",
    "\n",
    "# Lug‘atni tozalash\n",
    "yangi_lugat = tozalash_lugat()\n",
    "print(\"Tozalangan lug‘at:\", yangi_lugat)\n",
    "\n",
    "# Natija:\n",
    "# Tozalangan lug‘at: {}"
   ]
  },
  {
   "cell_type": "code",
   "execution_count": 20,
   "metadata": {},
   "outputs": [
    {
     "name": "stdout",
     "output_type": "stream",
     "text": [
      "Lugat1 bo‘shmi? True\n",
      "Lugat2 bo‘shmi? False\n"
     ]
    }
   ],
   "source": [
    "# Lug‘at bo‘shligini tekshirish funksiyasi\n",
    "def lugat_boshmi(lugat):\n",
    "    return len(lugat) == 0  # Agar uzunligi 0 bo‘lsa, True qaytaradi\n",
    "\n",
    "# Misollar\n",
    "lugat1 = {}  # Bo‘sh lug‘at\n",
    "lugat2 = {\"ism\": \"Muattarxon\", \"yosh\": 17}\n",
    "\n",
    "# Natijalarni chiqarish\n",
    "print(\"Lugat1 bo‘shmi?\", lugat_boshmi(lugat1))  # True\n",
    "print(\"Lugat2 bo‘shmi?\", lugat_boshmi(lugat2))  # False"
   ]
  },
  {
   "cell_type": "code",
   "execution_count": 21,
   "metadata": {},
   "outputs": [
    {
     "name": "stdout",
     "output_type": "stream",
     "text": [
      "('ism', 'Muattarxon')\n",
      "None\n"
     ]
    }
   ],
   "source": [
    "# Kalit-qiymat juftligini qaytaruvchi funksiya\n",
    "def kalit_qiymat_jufti(lugat, kalit):\n",
    "    if kalit in lugat:  # Agar kalit lug‘atda bo‘lsa\n",
    "        return (kalit, lugat[kalit])  # Kalit va qiymatni juftlik sifatida qaytaradi\n",
    "    else:\n",
    "        return None  # Agar kalit yo‘q bo‘lsa, None qaytariladi\n",
    "\n",
    "# Misollar\n",
    "lugat = {\"ism\": \"Muattarxon\", \"yosh\": 17, \"shahar\": \"Toshkent\"}\n",
    "\n",
    "# Kalit mavjud bo‘lsa\n",
    "print(kalit_qiymat_jufti(lugat, \"ism\"))  # ('ism', 'Muattarxon')\n",
    "\n",
    "# Kalit mavjud bo‘lmasa\n",
    "print(kalit_qiymat_jufti(lugat, \"kasb\"))  # None"
   ]
  },
  {
   "cell_type": "code",
   "execution_count": 22,
   "metadata": {},
   "outputs": [
    {
     "name": "stdout",
     "output_type": "stream",
     "text": [
      "True\n",
      "{'ism': 'Muattarxon', 'yosh': 18, 'shahar': 'Toshkent'}\n",
      "False\n",
      "{'ism': 'Muattarxon', 'yosh': 18, 'shahar': 'Toshkent'}\n"
     ]
    }
   ],
   "source": [
    "# Lug‘atda kalit bo‘yicha qiymatni yangilovchi funksiya\n",
    "def qiymat_yangilash(lugat, kalit, yangi_qiymat):\n",
    "    if kalit in lugat:  # Agar kalit mavjud bo‘lsa\n",
    "        lugat[kalit] = yangi_qiymat  # Yangi qiymatni o‘rnatadi\n",
    "        return True  # Muvaffaqiyatli yangilansa, True qaytariladi\n",
    "    else:\n",
    "        return False  # Agar kalit mavjud bo‘lmasa, False qaytariladi\n",
    "\n",
    "# Misollar\n",
    "lugat = {\"ism\": \"Muattarxon\", \"yosh\": 17, \"shahar\": \"Toshkent\"}\n",
    "\n",
    "# Mavjud kalit uchun yangilash\n",
    "print(qiymat_yangilash(lugat, \"yosh\", 18))  # True\n",
    "print(lugat)  # {'ism': 'Muattarxon', 'yosh': 18, 'shahar': 'Toshkent'}\n",
    "\n",
    "# Mavjud bo‘lmagan kalit uchun\n",
    "print(qiymat_yangilash(lugat, \"kasb\", \"Dasturchi\"))  # False\n",
    "print(lugat)  # O‘zgarmaydi"
   ]
  },
  {
   "cell_type": "code",
   "execution_count": 23,
   "metadata": {},
   "outputs": [
    {
     "name": "stdout",
     "output_type": "stream",
     "text": [
      "3\n",
      "1\n",
      "0\n"
     ]
    }
   ],
   "source": [
    "# Lug‘atda ma'lum qiymat necha marta borligini hisoblovchi funksiya\n",
    "def qiymat_soni(lugat, qiymat):\n",
    "    return list(lugat.values()).count(qiymat)  # Qiymatlarning sonini hisoblaydi\n",
    "\n",
    "# Misol lug‘at\n",
    "lugat = {\"A\": 5, \"B\": 3, \"C\": 5, \"D\": 7, \"E\": 5}\n",
    "\n",
    "# Qiymat necha marta borligini tekshiramiz\n",
    "print(qiymat_soni(lugat, 5))  # 3 marta\n",
    "print(qiymat_soni(lugat, 3))  # 1 marta\n",
    "print(qiymat_soni(lugat, 10))  # 0 marta"
   ]
  },
  {
   "cell_type": "code",
   "execution_count": 24,
   "metadata": {},
   "outputs": [
    {
     "name": "stdout",
     "output_type": "stream",
     "text": [
      "{1: 'A', 2: 'B', 3: 'C'}\n"
     ]
    }
   ],
   "source": [
    "# Lug‘atni o‘rin almashtirish (kalitlarni qiymat, qiymatlarni kalit qilish)\n",
    "def invert_lugat(lugat):\n",
    "    return {qiymat: kalit for kalit, qiymat in lugat.items()}\n",
    "\n",
    "# Misol lug‘at\n",
    "lugat = {\"A\": 1, \"B\": 2, \"C\": 3}\n",
    "\n",
    "# O‘rin almashtirilgan lug‘at\n",
    "yangi_lugat = invert_lugat(lugat)\n",
    "print(yangi_lugat)  # {1: 'A', 2: 'B', 3: 'C'}"
   ]
  },
  {
   "cell_type": "code",
   "execution_count": 25,
   "metadata": {},
   "outputs": [
    {
     "name": "stdout",
     "output_type": "stream",
     "text": [
      "['A', 'C']\n"
     ]
    }
   ],
   "source": [
    "# Lug‘atdagi berilgan qiymatga ega bo‘lgan barcha kalitlarni topish\n",
    "def find_keys_with_value(lugat, target_value):\n",
    "    return [kalit for kalit, qiymat in lugat.items() if qiymat == target_value]\n",
    "\n",
    "# Misol lug‘at\n",
    "lugat = {\"A\": 5, \"B\": 3, \"C\": 5, \"D\": 7}\n",
    "\n",
    "# Qiymati 5 bo‘lgan barcha kalitlarni topish\n",
    "natija = find_keys_with_value(lugat, 5)\n",
    "print(natija)  # ['A', 'C']"
   ]
  },
  {
   "cell_type": "code",
   "execution_count": 26,
   "metadata": {},
   "outputs": [
    {
     "name": "stdout",
     "output_type": "stream",
     "text": [
      "{'A': 10, 'B': 20, 'C': 30}\n"
     ]
    }
   ],
   "source": [
    "# Ikkita ro‘yxatdan lug‘at yaratish\n",
    "def create_dict_from_lists(keys, values):\n",
    "    return dict(zip(keys, values))\n",
    "\n",
    "# Misol ro‘yxatlar\n",
    "keys = [\"A\", \"B\", \"C\"]\n",
    "values = [10, 20, 30]\n",
    "\n",
    "# Lug‘at yaratish\n",
    "new_dict = create_dict_from_lists(keys, values)\n",
    "print(new_dict)  # {'A': 10, 'B': 20, 'C': 30}"
   ]
  },
  {
   "cell_type": "code",
   "execution_count": 27,
   "metadata": {},
   "outputs": [
    {
     "name": "stdout",
     "output_type": "stream",
     "text": [
      "True\n",
      "False\n"
     ]
    }
   ],
   "source": [
    "# Lug‘atda ichki lug‘atlar borligini tekshirish\n",
    "def has_nested_dict(d):\n",
    "    return any(isinstance(value, dict) for value in d.values())\n",
    "\n",
    "# Misollar\n",
    "dict1 = {\"a\": 1, \"b\": {\"c\": 2, \"d\": 3}, \"e\": 4}\n",
    "dict2 = {\"x\": 10, \"y\": 20, \"z\": 30}\n",
    "\n",
    "print(has_nested_dict(dict1))  # True (ichki lug‘at bor)\n",
    "print(has_nested_dict(dict2))  # False (ichki lug‘at yo‘q)"
   ]
  },
  {
   "cell_type": "code",
   "execution_count": 28,
   "metadata": {},
   "outputs": [
    {
     "name": "stdout",
     "output_type": "stream",
     "text": [
      "42\n",
      "{'c': 42}\n",
      "Not found\n",
      "100\n",
      "No key\n"
     ]
    }
   ],
   "source": [
    "# Ichki lug‘atdan qiymat olish\n",
    "def get_nested_value(d, keys, default=None):\n",
    "    current = d\n",
    "    for key in keys:\n",
    "        if isinstance(current, dict) and key in current:\n",
    "            current = current[key]\n",
    "        else:\n",
    "            return default  # Agar kalit topilmasa, default qiymat qaytariladi\n",
    "    return current\n",
    "\n",
    "# Misollar\n",
    "nested_dict = {\n",
    "    \"a\": {\n",
    "        \"b\": {\n",
    "            \"c\": 42\n",
    "        }\n",
    "    },\n",
    "    \"x\": 100\n",
    "}\n",
    "\n",
    "print(get_nested_value(nested_dict, [\"a\", \"b\", \"c\"]))  # 42\n",
    "print(get_nested_value(nested_dict, [\"a\", \"b\"]))        # {'c': 42}\n",
    "print(get_nested_value(nested_dict, [\"a\", \"z\"], \"Not found\"))  # \"Not found\"\n",
    "print(get_nested_value(nested_dict, [\"x\"]))  # 100\n",
    "print(get_nested_value(nested_dict, [\"y\"], \"No key\"))  # \"No key\""
   ]
  },
  {
   "cell_type": "code",
   "execution_count": 29,
   "metadata": {},
   "outputs": [
    {
     "name": "stdout",
     "output_type": "stream",
     "text": [
      "0\n",
      "0\n",
      "5\n"
     ]
    }
   ],
   "source": [
    "from collections import defaultdict\n",
    "\n",
    "# Default qiymati 0 bo‘lgan lug‘at yaratish\n",
    "default_dict = defaultdict(int)\n",
    "\n",
    "print(default_dict[\"x\"])  # 0 (avtomatik ravishda 0 qo‘yiladi)\n",
    "print(default_dict[\"y\"])  # 0\n",
    "\n",
    "# Qiymat qo‘shish\n",
    "default_dict[\"x\"] += 5\n",
    "print(default_dict[\"x\"])  # 5"
   ]
  },
  {
   "cell_type": "code",
   "execution_count": 30,
   "metadata": {},
   "outputs": [
    {
     "name": "stdout",
     "output_type": "stream",
     "text": [
      "5\n"
     ]
    }
   ],
   "source": [
    "def count_unique_values_nested(d):\n",
    "    unique_values = set()\n",
    "\n",
    "    def extract_values(dictionary):\n",
    "        for value in dictionary.values():\n",
    "            if isinstance(value, dict):  # Agar qiymat lug‘at bo‘lsa, rekursiya ishlatamiz\n",
    "                extract_values(value)\n",
    "            else:\n",
    "                unique_values.add(value)\n",
    "\n",
    "    extract_values(d)\n",
    "    return len(unique_values)\n",
    "\n",
    "# Misol\n",
    "nested_data = {\n",
    "    \"x\": 10,\n",
    "    \"y\": {\"a\": 20, \"b\": 30, \"c\": 10},\n",
    "    \"z\": 40,\n",
    "    \"w\": {\"d\": 30, \"e\": 50}\n",
    "}\n",
    "\n",
    "print(count_unique_values_nested(nested_data))  # Natija: 5 (qiymatlar: {10, 20, 30, 40, 50})"
   ]
  },
  {
   "cell_type": "code",
   "execution_count": 31,
   "metadata": {},
   "outputs": [
    {
     "name": "stdout",
     "output_type": "stream",
     "text": [
      "{'a': 1, 'b': 2, 'c': 3, 'd': 4}\n"
     ]
    }
   ],
   "source": [
    "def sort_dict_by_key(d):\n",
    "    return dict(sorted(d.items()))\n",
    "\n",
    "# Misol\n",
    "data = {\n",
    "    \"c\": 3,\n",
    "    \"a\": 1,\n",
    "    \"b\": 2,\n",
    "    \"d\": 4\n",
    "}\n",
    "\n",
    "print(sort_dict_by_key(data))\n",
    "# Natija: {'a': 1, 'b': 2, 'c': 3, 'd': 4}"
   ]
  },
  {
   "cell_type": "code",
   "execution_count": 32,
   "metadata": {},
   "outputs": [
    {
     "name": "stdout",
     "output_type": "stream",
     "text": [
      "{'a': 1, 'b': 2, 'c': 3, 'd': 4}\n"
     ]
    }
   ],
   "source": [
    "def sort_dict_by_value(d):\n",
    "    return dict(sorted(d.items(), key=lambda x: x[1]))\n",
    "\n",
    "# Misol\n",
    "data = {\n",
    "    \"c\": 3,\n",
    "    \"a\": 1,\n",
    "    \"b\": 2,\n",
    "    \"d\": 4\n",
    "}\n",
    "\n",
    "print(sort_dict_by_value(data))\n",
    "# Natija: {'a': 1, 'b': 2, 'c': 3, 'd': 4}"
   ]
  },
  {
   "cell_type": "code",
   "execution_count": 33,
   "metadata": {},
   "outputs": [
    {
     "name": "stdout",
     "output_type": "stream",
     "text": [
      "{'b': 6, 'd': 8}\n"
     ]
    }
   ],
   "source": [
    "def filter_dict_by_value(d, condition):\n",
    "    return {k: v for k, v in d.items() if condition(v)}\n",
    "\n",
    "# Misol\n",
    "data = {\n",
    "    \"a\": 1,\n",
    "    \"b\": 6,\n",
    "    \"c\": 3,\n",
    "    \"d\": 8\n",
    "}\n",
    "\n",
    "# Qiymatlari 5 dan katta bo'lganlar\n",
    "filtered_data = filter_dict_by_value(data, lambda x: x > 5)\n",
    "print(filtered_data)\n",
    "# Natija: {'b': 6, 'd': 8}"
   ]
  },
  {
   "cell_type": "code",
   "execution_count": 34,
   "metadata": {},
   "outputs": [
    {
     "name": "stdout",
     "output_type": "stream",
     "text": [
      "True\n"
     ]
    }
   ],
   "source": [
    "def check_common_keys(dict1, dict2):\n",
    "    common_keys = set(dict1.keys()) & set(dict2.keys())  # Intersection of keys\n",
    "    return len(common_keys) > 0\n",
    "\n",
    "# Misol\n",
    "dict1 = {\n",
    "    \"a\": 1,\n",
    "    \"b\": 2,\n",
    "    \"c\": 3\n",
    "}\n",
    "\n",
    "dict2 = {\n",
    "    \"b\": 4,\n",
    "    \"c\": 5,\n",
    "    \"d\": 6\n",
    "}\n",
    "\n",
    "# Umumiy kalitlar bormi?\n",
    "result = check_common_keys(dict1, dict2)\n",
    "print(result)  # Natija: True (b, c)"
   ]
  },
  {
   "cell_type": "code",
   "execution_count": 35,
   "metadata": {},
   "outputs": [
    {
     "name": "stdout",
     "output_type": "stream",
     "text": [
      "{'a': 1, 'b': 2, 'c': 3}\n",
      "{'apple': 3, 'banana': 5, 'cherry': 2}\n",
      "{'x': 10, 'y': 20, 'z': 30}\n"
     ]
    }
   ],
   "source": [
    "# Tuple of key-value pairs\n",
    "tuple_data = ((\"a\", 1), (\"b\", 2), (\"c\", 3))\n",
    "\n",
    "# Convert tuple to dictionary\n",
    "dict_from_tuple = dict(tuple_data)\n",
    "\n",
    "print(dict_from_tuple)\n",
    "\n",
    "# Tuple of key-value pairs\n",
    "tuple_data = ((\"apple\", 3), (\"banana\", 5), (\"cherry\", 2))\n",
    "\n",
    "# Convert tuple to dictionary\n",
    "fruit_count = dict(tuple_data)\n",
    "\n",
    "print(fruit_count)\n",
    "\n",
    "# Tuple of key-value pairs\n",
    "tuple_data = ((\"x\", 10), (\"y\", 20), (\"z\", 30))\n",
    "\n",
    "# Convert to dictionary\n",
    "dict_from_tuple = dict(tuple_data)\n",
    "\n",
    "# Print dictionary\n",
    "print(dict_from_tuple)"
   ]
  },
  {
   "cell_type": "code",
   "execution_count": 36,
   "metadata": {},
   "outputs": [
    {
     "name": "stdout",
     "output_type": "stream",
     "text": [
      "('a', 1)\n"
     ]
    }
   ],
   "source": [
    "# Dictionary\n",
    "my_dict = {'a': 1, 'b': 2, 'c': 3}\n",
    "\n",
    "# Get the first key-value pair\n",
    "first_item = list(my_dict.items())[0]\n",
    "\n",
    "print(first_item)"
   ]
  },
  {
   "cell_type": "code",
   "execution_count": null,
   "metadata": {},
   "outputs": [],
   "source": []
  }
 ],
 "metadata": {
  "kernelspec": {
   "display_name": "Python 3",
   "language": "python",
   "name": "python3"
  },
  "language_info": {
   "codemirror_mode": {
    "name": "ipython",
    "version": 3
   },
   "file_extension": ".py",
   "mimetype": "text/x-python",
   "name": "python",
   "nbconvert_exporter": "python",
   "pygments_lexer": "ipython3",
   "version": "3.10.10"
  }
 },
 "nbformat": 4,
 "nbformat_minor": 2
}
